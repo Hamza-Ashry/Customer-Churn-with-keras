{
  "nbformat": 4,
  "nbformat_minor": 0,
  "metadata": {
    "colab": {
      "provenance": [],
      "collapsed_sections": [],
      "machine_shape": "hm"
    },
    "kernelspec": {
      "name": "python3",
      "display_name": "Python 3"
    }
  },
  "cells": [
    {
      "cell_type": "code",
      "metadata": {
        "id": "tZRSiDYNQLSr"
      },
      "source": [
        "import os\n",
        "import cv2\n",
        "import pandas as pd\n",
        "import numpy as np\n",
        "import matplotlib.pyplot as plt\n",
        "import tensorflow as tf \n",
        "import keras\n",
        "from sklearn.model_selection import train_test_split\n",
        "import warnings\n",
        "warnings.filterwarnings('ignore')\n",
        "\n",
        "base = '/content/COVID-19_Radiography_Dataset/'"
      ],
      "execution_count": 2,
      "outputs": []
    },
    {
      "cell_type": "code",
      "source": [
        "folders = os.listdir(base)\n",
        "print(folders)"
      ],
      "metadata": {
        "id": "lOmucKTTzhS_",
        "outputId": "ec05b6ee-33c2-463e-9159-07242910c506",
        "colab": {
          "base_uri": "https://localhost:8080/"
        }
      },
      "execution_count": 3,
      "outputs": [
        {
          "output_type": "stream",
          "name": "stdout",
          "text": [
            "['Normal', 'Lung_Opacity', 'COVID', 'Viral Pneumonia']\n"
          ]
        }
      ]
    },
    {
      "cell_type": "code",
      "source": [
        "%%time\n",
        "\n",
        "Data, Lables = [], []\n",
        "\n",
        "for item in folders:\n",
        "    new_path = os.path.join(base, item)\n",
        "    new_path += '/images'\n",
        "    for img in os.listdir(new_path):\n",
        "        img_path = os.path.join(new_path, img)\n",
        "        Data.append(np.array(cv2.resize(cv2.imread(img_path).astype('float32') / 255.0, (200,200))))\n",
        "        Lables.append(folders.index(item))"
      ],
      "metadata": {
        "id": "8T7bCaRIzhWT",
        "outputId": "5682af0a-9cae-488a-cce6-41ddf40819be",
        "colab": {
          "base_uri": "https://localhost:8080/"
        }
      },
      "execution_count": 12,
      "outputs": [
        {
          "output_type": "stream",
          "name": "stdout",
          "text": [
            "CPU times: user 2min 14s, sys: 2min 3s, total: 4min 17s\n",
            "Wall time: 2min 25s\n"
          ]
        }
      ]
    },
    {
      "cell_type": "code",
      "source": [
        "x_train, x_test, y_train, y_test = train_test_split(Data, Lables, test_size = .2, random_state = 1)"
      ],
      "metadata": {
        "id": "vu15N7GgzhY_"
      },
      "execution_count": 13,
      "outputs": []
    },
    {
      "cell_type": "code",
      "source": [
        "x_train = np.array(x_train)\n",
        "x_test = np.array(x_test)\n",
        "y_train = np.array(y_train)\n",
        "y_test = np.array(y_test)"
      ],
      "metadata": {
        "id": "WxwmRYVU2pJf"
      },
      "execution_count": 14,
      "outputs": []
    },
    {
      "cell_type": "code",
      "source": [
        "model = keras.Sequential()\n",
        "# 1st Convolutional Layer\n",
        "model.add(keras.layers.Conv2D(filters=96, input_shape=(Data[0].shape), kernel_size=(11,11),strides=(4,4), padding='valid'))\n",
        "model.add(keras.layers.Activation('relu'))\n",
        "model.add(keras.layers.MaxPooling2D(pool_size=(3,3), strides=(2,2), padding='valid'))\n",
        "model.add(keras.layers.BatchNormalization())\n",
        "\n",
        "# 2nd Convolutional Layer\n",
        "model.add(keras.layers.Conv2D(filters=256, kernel_size=(5,5),strides=(1,1), padding='valid'))\n",
        "model.add(keras.layers.Activation('relu'))\n",
        "model.add(keras.layers.MaxPooling2D(pool_size=(3,3), strides=(2,2), padding='valid'))\n",
        "model.add(keras.layers.BatchNormalization())\n",
        "\n",
        "# 3rd Convolutional Layer\n",
        "model.add(keras.layers.Conv2D(filters=384, kernel_size=(3,3),strides=(1,1), padding='valid'))\n",
        "model.add(keras.layers.Activation('relu'))\n",
        "model.add(keras.layers.BatchNormalization())\n",
        "\n",
        "# 4th Convolutional Layer\n",
        "model.add(keras.layers.Conv2D(filters=384, kernel_size=(3,3),strides=(1,1), padding='valid'))\n",
        "model.add(keras.layers.Activation('relu'))\n",
        "model.add(keras.layers.BatchNormalization())\n",
        "\n",
        "# 5th Convolutional Layer\n",
        "model.add(keras.layers.Conv2D(filters=256, kernel_size=(3,3),strides=(1,1), padding='valid'))\n",
        "model.add(keras.layers.Activation('relu'))\n",
        "\n",
        "# pooling\n",
        "model.add(keras.layers.MaxPooling2D(pool_size=(3,3), strides=(2,2), padding='valid'))\n",
        "model.add(keras.layers.BatchNormalization())\n",
        "\n",
        "model.add(keras.layers.Flatten())\n",
        "# 1st Dense Layer\n",
        "model.add(keras.layers.Dense(4096, input_shape=(Data[0].shape)))\n",
        "model.add(keras.layers.Activation('relu'))\n",
        "# Add Dropout to prevent overfitting\n",
        "model.add(keras.layers.Dropout(0.4))\n",
        "model.add(keras.layers.BatchNormalization())\n",
        "\n",
        "# 2nd Dense Layer\n",
        "model.add(keras.layers.Dense(4096))\n",
        "model.add(keras.layers.Activation('relu'))\n",
        "model.add(keras.layers.Dropout(0.4))\n",
        "model.add(keras.layers.BatchNormalization())\n",
        "\n",
        "# 3rd Dense Layer\n",
        "model.add(keras.layers.Dense(1000))\n",
        "model.add(keras.layers.Activation('relu'))\n",
        "model.add(keras.layers.Dropout(0.4))\n",
        "model.add(keras.layers.BatchNormalization())\n",
        "\n",
        "# Output Layer\n",
        "model.add(keras.layers.Dense(len(folders)))\n",
        "model.add(keras.layers.Activation('softmax'))"
      ],
      "metadata": {
        "id": "-RhUTUVIzhbe"
      },
      "execution_count": 15,
      "outputs": []
    },
    {
      "cell_type": "code",
      "source": [
        "model.summary()"
      ],
      "metadata": {
        "id": "ft7pFlU_zhd_",
        "outputId": "93294b3c-a835-40fd-924d-4797ef408a2a",
        "colab": {
          "base_uri": "https://localhost:8080/"
        }
      },
      "execution_count": 16,
      "outputs": [
        {
          "output_type": "stream",
          "name": "stdout",
          "text": [
            "Model: \"sequential_2\"\n",
            "_________________________________________________________________\n",
            " Layer (type)                Output Shape              Param #   \n",
            "=================================================================\n",
            " conv2d_10 (Conv2D)          (None, 48, 48, 96)        34944     \n",
            "                                                                 \n",
            " activation_9 (Activation)   (None, 48, 48, 96)        0         \n",
            "                                                                 \n",
            " max_pooling2d_5 (MaxPooling  (None, 23, 23, 96)       0         \n",
            " 2D)                                                             \n",
            "                                                                 \n",
            " batch_normalization_8 (Batc  (None, 23, 23, 96)       384       \n",
            " hNormalization)                                                 \n",
            "                                                                 \n",
            " conv2d_11 (Conv2D)          (None, 19, 19, 256)       614656    \n",
            "                                                                 \n",
            " activation_10 (Activation)  (None, 19, 19, 256)       0         \n",
            "                                                                 \n",
            " max_pooling2d_6 (MaxPooling  (None, 9, 9, 256)        0         \n",
            " 2D)                                                             \n",
            "                                                                 \n",
            " batch_normalization_9 (Batc  (None, 9, 9, 256)        1024      \n",
            " hNormalization)                                                 \n",
            "                                                                 \n",
            " conv2d_12 (Conv2D)          (None, 7, 7, 384)         885120    \n",
            "                                                                 \n",
            " activation_11 (Activation)  (None, 7, 7, 384)         0         \n",
            "                                                                 \n",
            " batch_normalization_10 (Bat  (None, 7, 7, 384)        1536      \n",
            " chNormalization)                                                \n",
            "                                                                 \n",
            " conv2d_13 (Conv2D)          (None, 5, 5, 384)         1327488   \n",
            "                                                                 \n",
            " activation_12 (Activation)  (None, 5, 5, 384)         0         \n",
            "                                                                 \n",
            " batch_normalization_11 (Bat  (None, 5, 5, 384)        1536      \n",
            " chNormalization)                                                \n",
            "                                                                 \n",
            " conv2d_14 (Conv2D)          (None, 3, 3, 256)         884992    \n",
            "                                                                 \n",
            " activation_13 (Activation)  (None, 3, 3, 256)         0         \n",
            "                                                                 \n",
            " max_pooling2d_7 (MaxPooling  (None, 1, 1, 256)        0         \n",
            " 2D)                                                             \n",
            "                                                                 \n",
            " batch_normalization_12 (Bat  (None, 1, 1, 256)        1024      \n",
            " chNormalization)                                                \n",
            "                                                                 \n",
            " flatten (Flatten)           (None, 256)               0         \n",
            "                                                                 \n",
            " dense (Dense)               (None, 4096)              1052672   \n",
            "                                                                 \n",
            " activation_14 (Activation)  (None, 4096)              0         \n",
            "                                                                 \n",
            " dropout (Dropout)           (None, 4096)              0         \n",
            "                                                                 \n",
            " batch_normalization_13 (Bat  (None, 4096)             16384     \n",
            " chNormalization)                                                \n",
            "                                                                 \n",
            " dense_1 (Dense)             (None, 4096)              16781312  \n",
            "                                                                 \n",
            " activation_15 (Activation)  (None, 4096)              0         \n",
            "                                                                 \n",
            " dropout_1 (Dropout)         (None, 4096)              0         \n",
            "                                                                 \n",
            " batch_normalization_14 (Bat  (None, 4096)             16384     \n",
            " chNormalization)                                                \n",
            "                                                                 \n",
            " dense_2 (Dense)             (None, 1000)              4097000   \n",
            "                                                                 \n",
            " activation_16 (Activation)  (None, 1000)              0         \n",
            "                                                                 \n",
            " dropout_2 (Dropout)         (None, 1000)              0         \n",
            "                                                                 \n",
            " batch_normalization_15 (Bat  (None, 1000)             4000      \n",
            " chNormalization)                                                \n",
            "                                                                 \n",
            " dense_3 (Dense)             (None, 4)                 4004      \n",
            "                                                                 \n",
            " activation_17 (Activation)  (None, 4)                 0         \n",
            "                                                                 \n",
            "=================================================================\n",
            "Total params: 25,724,460\n",
            "Trainable params: 25,703,324\n",
            "Non-trainable params: 21,136\n",
            "_________________________________________________________________\n"
          ]
        }
      ]
    },
    {
      "cell_type": "code",
      "source": [
        "model.compile(optimizer = 'adam', loss = 'sparse_categorical_crossentropy', metrics = ['accuracy'])"
      ],
      "metadata": {
        "id": "_vqa3R-L01z-"
      },
      "execution_count": 17,
      "outputs": []
    },
    {
      "cell_type": "code",
      "source": [
        "%%time\n",
        "history = model.fit(x_train, y_train, batch_size = 32, epochs = 5, validation_data = (x_test, y_test))"
      ],
      "metadata": {
        "id": "AN7GRzIK012Z",
        "outputId": "c9b8739d-555a-48ad-80d4-a75befa7b0c2",
        "colab": {
          "base_uri": "https://localhost:8080/"
        }
      },
      "execution_count": 18,
      "outputs": [
        {
          "output_type": "stream",
          "name": "stdout",
          "text": [
            "Epoch 1/5\n",
            "530/530 [==============================] - 564s 1s/step - loss: 0.9227 - accuracy: 0.6691 - val_loss: 2.1386 - val_accuracy: 0.4056\n",
            "Epoch 2/5\n",
            "530/530 [==============================] - 574s 1s/step - loss: 0.6167 - accuracy: 0.7703 - val_loss: 1.1360 - val_accuracy: 0.6879\n",
            "Epoch 3/5\n",
            "530/530 [==============================] - 574s 1s/step - loss: 0.5398 - accuracy: 0.7994 - val_loss: 0.8491 - val_accuracy: 0.6893\n",
            "Epoch 4/5\n",
            "530/530 [==============================] - 572s 1s/step - loss: 0.4820 - accuracy: 0.8208 - val_loss: 1.1956 - val_accuracy: 0.5663\n",
            "Epoch 5/5\n",
            "530/530 [==============================] - 579s 1s/step - loss: 0.4563 - accuracy: 0.8303 - val_loss: 0.8868 - val_accuracy: 0.6376\n",
            "CPU times: user 2h 49min 3s, sys: 2min 40s, total: 2h 51min 43s\n",
            "Wall time: 48min 24s\n"
          ]
        }
      ]
    },
    {
      "cell_type": "code",
      "source": [
        "plt.plot(history.history['accuracy'], label = 'Train Accuracy')\n",
        "plt.plot(history.history['val_accuracy'], label = 'Test Accuracy')\n",
        "plt.legend()\n",
        "plt.show()"
      ],
      "metadata": {
        "id": "DsBoXDRd015K",
        "outputId": "01c51307-1750-473e-8e9f-4912a746b3a7",
        "colab": {
          "base_uri": "https://localhost:8080/",
          "height": 265
        }
      },
      "execution_count": 19,
      "outputs": [
        {
          "output_type": "display_data",
          "data": {
            "text/plain": [
              "<Figure size 432x288 with 1 Axes>"
            ],
            "image/png": "[encoded data removed]"
          },
          "metadata": {
            "needs_background": "light"
          }
        }
      ]
    },
    {
      "cell_type": "code",
      "source": [
        "plt.plot(history.history['loss'], label = 'Train loss')\n",
        "plt.plot(history.history['val_loss'], label = 'Test loss')\n",
        "plt.legend()\n",
        "plt.show()"
      ],
      "metadata": {
        "id": "plEZBTzp-vBk",
        "outputId": "108a54c0-7c76-4365-c81b-10431a6e5025",
        "colab": {
          "base_uri": "https://localhost:8080/",
          "height": 265
        }
      },
      "execution_count": 20,
      "outputs": [
        {
          "output_type": "display_data",
          "data": {
            "text/plain": [
              "<Figure size 432x288 with 1 Axes>"
            ],
            "image/png": "[encoded data removed]"
          },
          "metadata": {
            "needs_background": "light"
          }
        }
      ]
    },
    {
      "cell_type": "code",
      "source": [
        "model.evaluate(x_test, y_test)"
      ],
      "metadata": {
        "id": "r7Bhmkli-xRo",
        "outputId": "99b195db-6204-4b80-dcbb-3a2be48d7dce",
        "colab": {
          "base_uri": "https://localhost:8080/"
        }
      },
      "execution_count": 21,
      "outputs": [
        {
          "output_type": "stream",
          "name": "stdout",
          "text": [
            "133/133 [==============================] - 32s 243ms/step - loss: 0.8868 - accuracy: 0.6376\n"
          ]
        },
        {
          "output_type": "execute_result",
          "data": {
            "text/plain": [
              "[0.8867527842521667, 0.6376092433929443]"
            ]
          },
          "metadata": {},
          "execution_count": 21
        }
      ]
    }
  ]
}