{
  "cells": [
    {
      "cell_type": "code",
      "execution_count": 1,
      "id": "886d6c10",
      "metadata": {
        "id": "886d6c10"
      },
      "outputs": [],
      "source": [
        "import os\n",
        "import cv2\n",
        "import pandas as pd\n",
        "import numpy as np\n",
        "import matplotlib.pyplot as plt\n",
        "import tensorflow as tf \n",
        "import keras\n",
        "from sklearn.model_selection import train_test_split\n",
        "import warnings\n",
        "warnings.filterwarnings('ignore')\n",
        "\n",
        "base = '/content/COVID-19_Radiography_Dataset/'"
      ]
    },
    {
      "cell_type": "code",
      "execution_count": 2,
      "id": "4969099f",
      "metadata": {
        "colab": {
          "base_uri": "https://localhost:8080/"
        },
        "id": "4969099f",
        "outputId": "cf9316c7-f573-421b-80bf-bf1c9ef716c6"
      },
      "outputs": [
        {
          "name": "stdout",
          "output_type": "stream",
          "text": [
            "['Viral_Pneumonia', 'COVID', 'Lung_Opacity', 'Normal']\n"
          ]
        }
      ],
      "source": [
        "folders = os.listdir(base)\n",
        "print(folders)"
      ]
    },
    {
      "cell_type": "code",
      "execution_count": 3,
      "id": "30107e41",
      "metadata": {
        "colab": {
          "base_uri": "https://localhost:8080/"
        },
        "id": "30107e41",
        "outputId": "81aa98e8-1e6b-4dc2-e74d-23df56e509f3"
      },
      "outputs": [
        {
          "name": "stdout",
          "output_type": "stream",
          "text": [
            "CPU times: user 57.4 s, sys: 12.6 s, total: 1min 9s\n",
            "Wall time: 58 s\n"
          ]
        }
      ],
      "source": [
        "%%time\n",
        "\n",
        "Data, Lables = [], []\n",
        "\n",
        "for item in folders:\n",
        "    new_path = os.path.join(base, item)\n",
        "    new_path += '/images'\n",
        "    for img in os.listdir(new_path):\n",
        "        img_path = os.path.join(new_path, img)\n",
        "        Data.append(np.array(cv2.resize(cv2.imread(img_path).astype('float32') / 255.0, (100,100))))\n",
        "        Lables.append(folders.index(item))"
      ]
    },
    {
      "cell_type": "code",
      "execution_count": 4,
      "id": "SWiyHAKYBmFJ",
      "metadata": {
        "colab": {
          "base_uri": "https://localhost:8080/"
        },
        "id": "SWiyHAKYBmFJ",
        "outputId": "333975ff-ff0b-47e1-e65f-2d01fb473ff1"
      },
      "outputs": [
        {
          "name": "stdout",
          "output_type": "stream",
          "text": [
            "Data Shape (21165, 100, 100, 3)\n",
            "Lable Shape (21165,)\n"
          ]
        }
      ],
      "source": [
        "Data = np.array(Data)\n",
        "Lables = np.array(Lables)\n",
        "print('Data Shape', Data.shape)\n",
        "print('Lable Shape', Lables.shape)"
      ]
    },
    {
      "cell_type": "code",
      "execution_count": 5,
      "id": "089bfa4b",
      "metadata": {
        "id": "089bfa4b"
      },
      "outputs": [],
      "source": [
        "x_train, x_test, y_train, y_test = train_test_split(Data, Lables, test_size = .2, random_state = 1)"
      ]
    },
    {
      "cell_type": "code",
      "execution_count": 6,
      "id": "PNSkZcfwBVvu",
      "metadata": {
        "colab": {
          "base_uri": "https://localhost:8080/"
        },
        "id": "PNSkZcfwBVvu",
        "outputId": "77038a7e-29b4-493f-e86b-2df1cf0ba968"
      },
      "outputs": [
        {
          "name": "stdout",
          "output_type": "stream",
          "text": [
            "x_train Shape (16932, 100, 100, 3)\n",
            "x_test Shape (4233, 100, 100, 3)\n",
            "y_train Shape (16932,)\n",
            "y_test Shape (4233,)\n"
          ]
        }
      ],
      "source": [
        "print('x_train Shape', x_train.shape)\n",
        "print('x_test Shape', x_test.shape)\n",
        "print('y_train Shape', y_train.shape)\n",
        "print('y_test Shape', y_test.shape)"
      ]
    },
    {
      "cell_type": "code",
      "execution_count": 7,
      "id": "4af605ee",
      "metadata": {
        "id": "4af605ee"
      },
      "outputs": [],
      "source": [
        "model = keras.Sequential([\n",
        "    keras.layers.Conv2D(32, 3, input_shape = (Data[0].shape), activation = 'relu'),\n",
        "    keras.layers.MaxPooling2D(),\n",
        "    \n",
        "    keras.layers.Conv2D(16, 3, activation = 'relu'),\n",
        "    keras.layers.MaxPooling2D(),\n",
        "    \n",
        "    keras.layers.Conv2D(16, 3, activation = 'relu'),\n",
        "    keras.layers.MaxPooling2D(),\n",
        "    \n",
        "    keras.layers.Flatten(),\n",
        "    keras.layers.Dense(512, activation = 'relu'),\n",
        "    keras.layers.Dense(256, activation = 'relu'),\n",
        "    keras.layers.Dense(4, activation = 'softmax')\n",
        "])"
      ]
    },
    {
      "cell_type": "code",
      "execution_count": 8,
      "id": "a44cbcca",
      "metadata": {
        "colab": {
          "base_uri": "https://localhost:8080/"
        },
        "id": "a44cbcca",
        "outputId": "2ddd1595-1cce-483a-a1ac-f4fbe7c225b1"
      },
      "outputs": [
        {
          "name": "stdout",
          "output_type": "stream",
          "text": [
            "Model: \"sequential\"\n",
            "_________________________________________________________________\n",
            " Layer (type)                Output Shape              Param #   \n",
            "=================================================================\n",
            " conv2d (Conv2D)             (None, 98, 98, 32)        896       \n",
            "                                                                 \n",
            " max_pooling2d (MaxPooling2D  (None, 49, 49, 32)       0         \n",
            " )                                                               \n",
            "                                                                 \n",
            " conv2d_1 (Conv2D)           (None, 47, 47, 16)        4624      \n",
            "                                                                 \n",
            " max_pooling2d_1 (MaxPooling  (None, 23, 23, 16)       0         \n",
            " 2D)                                                             \n",
            "                                                                 \n",
            " conv2d_2 (Conv2D)           (None, 21, 21, 16)        2320      \n",
            "                                                                 \n",
            " max_pooling2d_2 (MaxPooling  (None, 10, 10, 16)       0         \n",
            " 2D)                                                             \n",
            "                                                                 \n",
            " flatten (Flatten)           (None, 1600)              0         \n",
            "                                                                 \n",
            " dense (Dense)               (None, 512)               819712    \n",
            "                                                                 \n",
            " dense_1 (Dense)             (None, 256)               131328    \n",
            "                                                                 \n",
            " dense_2 (Dense)             (None, 4)                 1028      \n",
            "                                                                 \n",
            "=================================================================\n",
            "Total params: 959,908\n",
            "Trainable params: 959,908\n",
            "Non-trainable params: 0\n",
            "_________________________________________________________________\n"
          ]
        }
      ],
      "source": [
        "model.summary()"
      ]
    },
    {
      "cell_type": "code",
      "execution_count": 9,
      "id": "801b9206",
      "metadata": {
        "id": "801b9206"
      },
      "outputs": [],
      "source": [
        "model.compile(optimizer = 'adam', loss = 'sparse_categorical_crossentropy', metrics = ['accuracy'])"
      ]
    },
    {
      "cell_type": "code",
      "execution_count": 10,
      "id": "abddea64",
      "metadata": {
        "colab": {
          "base_uri": "https://localhost:8080/"
        },
        "id": "abddea64",
        "outputId": "657e8d1e-65df-4c56-d7c2-da10f235c53d"
      },
      "outputs": [
        {
          "name": "stdout",
          "output_type": "stream",
          "text": [
            "Epoch 1/5\n",
            "530/530 [==============================] - 18s 12ms/step - loss: 0.6956 - accuracy: 0.7165 - val_loss: 0.5483 - val_accuracy: 0.7796\n",
            "Epoch 2/5\n",
            "530/530 [==============================] - 5s 10ms/step - loss: 0.4715 - accuracy: 0.8179 - val_loss: 0.4655 - val_accuracy: 0.8252\n",
            "Epoch 3/5\n",
            "530/530 [==============================] - 6s 10ms/step - loss: 0.3893 - accuracy: 0.8527 - val_loss: 0.4028 - val_accuracy: 0.8495\n",
            "Epoch 4/5\n",
            "530/530 [==============================] - 5s 10ms/step - loss: 0.3300 - accuracy: 0.8769 - val_loss: 0.3844 - val_accuracy: 0.8575\n",
            "Epoch 5/5\n",
            "530/530 [==============================] - 5s 10ms/step - loss: 0.2932 - accuracy: 0.8901 - val_loss: 0.3520 - val_accuracy: 0.8717\n",
            "CPU times: user 32.1 s, sys: 4.07 s, total: 36.1 s\n",
            "Wall time: 43.6 s\n"
          ]
        }
      ],
      "source": [
        "%%time\n",
        "history = model.fit(x_train, y_train, batch_size = 32, epochs = 5, validation_data = (x_test, y_test))"
      ]
    },
    {
      "cell_type": "code",
      "execution_count": 13,
      "id": "joUlRUm9G6m8",
      "metadata": {
        "colab": {
          "base_uri": "https://localhost:8080/",
          "height": 265
        },
        "id": "joUlRUm9G6m8",
        "outputId": "7e960cdc-525f-44fd-a5f2-94ea622bbea2"
      },
      "outputs": [
        {
          "data": {
            "image/png": "[encoded data removed]",
            "text/plain": [
              "<Figure size 432x288 with 1 Axes>"
            ]
          },
          "metadata": {
            "needs_background": "light"
          },
          "output_type": "display_data"
        }
      ],
      "source": [
        "plt.plot(history.history['accuracy'], label = 'Train Accuracy')\n",
        "plt.plot(history.history['val_accuracy'], label = 'Test Accuracy')\n",
        "plt.legend()\n",
        "plt.show()"
      ]
    },
    {
      "cell_type": "code",
      "execution_count": 14,
      "id": "fy6AMX22NkE3",
      "metadata": {
        "colab": {
          "base_uri": "https://localhost:8080/",
          "height": 265
        },
        "id": "fy6AMX22NkE3",
        "outputId": "479bd1b7-51c2-444a-f74b-b6dace5629dc"
      },
      "outputs": [
        {
          "data": {
            "image/png": "[encoded data removed]",
            "text/plain": [
              "<Figure size 432x288 with 1 Axes>"
            ]
          },
          "metadata": {
            "needs_background": "light"
          },
          "output_type": "display_data"
        }
      ],
      "source": [
        "plt.plot(history.history['loss'], label = 'Train loss')\n",
        "plt.plot(history.history['val_loss'], label = 'Test loss')\n",
        "plt.legend()\n",
        "plt.show()"
      ]
    },
    {
      "cell_type": "code",
      "execution_count": 15,
      "id": "VoeLGfg2Ol-u",
      "metadata": {
        "colab": {
          "base_uri": "https://localhost:8080/"
        },
        "id": "VoeLGfg2Ol-u",
        "outputId": "03dfc8d0-dafb-461a-957c-432337b750ab"
      },
      "outputs": [
        {
          "name": "stdout",
          "output_type": "stream",
          "text": [
            "133/133 [==============================] - 1s 6ms/step - loss: 0.3520 - accuracy: 0.8717\n"
          ]
        },
        {
          "data": {
            "text/plain": [
              "[0.3520349860191345, 0.8717221617698669]"
            ]
          },
          "execution_count": 15,
          "metadata": {},
          "output_type": "execute_result"
        }
      ],
      "source": [
        "model.evaluate(x_test, y_test)"
      ]
    }
  ],
  "metadata": {
    "accelerator": "GPU",
    "colab": {
      "provenance": []
    },
    "kernelspec": {
      "display_name": "Python 3 (ipykernel)",
      "language": "python",
      "name": "python3"
    },
    "language_info": {
      "codemirror_mode": {
        "name": "ipython",
        "version": 3
      },
      "file_extension": ".py",
      "mimetype": "text/x-python",
      "name": "python",
      "nbconvert_exporter": "python",
      "pygments_lexer": "ipython3",
      "version": "3.10.4"
    }
  },
  "nbformat": 4,
  "nbformat_minor": 5
}
