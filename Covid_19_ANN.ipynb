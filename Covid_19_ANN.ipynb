{
  "cells": [
    {
      "cell_type": "code",
      "execution_count": 23,
      "id": "886d6c10",
      "metadata": {
        "id": "886d6c10"
      },
      "outputs": [],
      "source": [
        "import os\n",
        "import cv2\n",
        "import pandas as pd\n",
        "import numpy as np\n",
        "import matplotlib.pyplot as plt\n",
        "import tensorflow as tf \n",
        "import keras\n",
        "from sklearn.model_selection import train_test_split\n",
        "import warnings\n",
        "warnings.filterwarnings('ignore')\n",
        "\n",
        "base = '/content/COVID-19_Radiography_Dataset/'"
      ]
    },
    {
      "cell_type": "code",
      "execution_count": 24,
      "id": "4969099f",
      "metadata": {
        "colab": {
          "base_uri": "https://localhost:8080/"
        },
        "id": "4969099f",
        "outputId": "e2423743-7ff7-4cd3-de9d-e7f12f205393"
      },
      "outputs": [
        {
          "output_type": "stream",
          "name": "stdout",
          "text": [
            "['Viral_Pneumonia', 'COVID', 'Lung_Opacity', 'Normal']\n"
          ]
        }
      ],
      "source": [
        "folders = os.listdir(base)\n",
        "print(folders)"
      ]
    },
    {
      "cell_type": "code",
      "execution_count": 25,
      "id": "30107e41",
      "metadata": {
        "id": "30107e41",
        "colab": {
          "base_uri": "https://localhost:8080/"
        },
        "outputId": "def159af-d0f0-446d-ccdb-ccc65a8dea8a"
      },
      "outputs": [
        {
          "output_type": "stream",
          "name": "stdout",
          "text": [
            "CPU times: user 57.7 s, sys: 50.1 s, total: 1min 47s\n",
            "Wall time: 1min 39s\n"
          ]
        }
      ],
      "source": [
        "%%time\n",
        "\n",
        "Data, Lables = [], []\n",
        "\n",
        "for item in folders:\n",
        "    new_path = os.path.join(base, item)\n",
        "    new_path += '/images'\n",
        "    for img in os.listdir(new_path):\n",
        "        img_path = os.path.join(new_path, img)\n",
        "        Data.append(np.array(cv2.resize(cv2.imread(img_path).astype('float32') / 255.0, (100,100))))\n",
        "        Lables.append(folders.index(item))"
      ]
    },
    {
      "cell_type": "code",
      "source": [
        "Data = np.array(Data)\n",
        "Lables = np.array(Lables)\n",
        "print('Data Shape', Data.shape)\n",
        "print('Lable Shape', Lables.shape)"
      ],
      "metadata": {
        "colab": {
          "base_uri": "https://localhost:8080/"
        },
        "id": "SWiyHAKYBmFJ",
        "outputId": "ede72a3f-71cf-4cc0-f8b8-577a0b5d533d"
      },
      "id": "SWiyHAKYBmFJ",
      "execution_count": 26,
      "outputs": [
        {
          "output_type": "stream",
          "name": "stdout",
          "text": [
            "Data Shape (21165, 100, 100, 3)\n",
            "Lable Shape (21165,)\n"
          ]
        }
      ]
    },
    {
      "cell_type": "code",
      "execution_count": 27,
      "id": "089bfa4b",
      "metadata": {
        "id": "089bfa4b"
      },
      "outputs": [],
      "source": [
        "x_train, x_test, y_train, y_test = train_test_split(Data, Lables, test_size = .2, random_state = 1)"
      ]
    },
    {
      "cell_type": "code",
      "source": [
        "print('x_train Shape', x_train.shape)\n",
        "print('x_test Shape', x_test.shape)\n",
        "print('y_train Shape', y_train.shape)\n",
        "print('y_test Shape', y_test.shape)"
      ],
      "metadata": {
        "colab": {
          "base_uri": "https://localhost:8080/"
        },
        "id": "PNSkZcfwBVvu",
        "outputId": "9f30a719-5444-4ee1-8346-9317e8f623ad"
      },
      "id": "PNSkZcfwBVvu",
      "execution_count": 28,
      "outputs": [
        {
          "output_type": "stream",
          "name": "stdout",
          "text": [
            "x_train Shape (16932, 100, 100, 3)\n",
            "x_test Shape (4233, 100, 100, 3)\n",
            "y_train Shape (16932,)\n",
            "y_test Shape (4233,)\n"
          ]
        }
      ]
    },
    {
      "cell_type": "code",
      "execution_count": 29,
      "id": "4af605ee",
      "metadata": {
        "id": "4af605ee"
      },
      "outputs": [],
      "source": [
        "model = keras.Sequential([\n",
        "    keras.layers.Flatten(),\n",
        "    keras.layers.Dense(512, activation = 'relu'),\n",
        "    keras.layers.Dense(256, activation = 'relu'),\n",
        "    keras.layers.Dense(4, activation = 'softmax')\n",
        "])"
      ]
    },
    {
      "cell_type": "code",
      "execution_count": 31,
      "id": "801b9206",
      "metadata": {
        "id": "801b9206"
      },
      "outputs": [],
      "source": [
        "model.compile(optimizer = 'adam', loss = 'sparse_categorical_crossentropy', metrics = ['accuracy'])"
      ]
    },
    {
      "cell_type": "code",
      "execution_count": 32,
      "id": "abddea64",
      "metadata": {
        "id": "abddea64",
        "colab": {
          "base_uri": "https://localhost:8080/"
        },
        "outputId": "ca55eb50-a8e2-4eff-da9b-115dea8f5c7a"
      },
      "outputs": [
        {
          "output_type": "stream",
          "name": "stdout",
          "text": [
            "Epoch 1/5\n",
            "530/530 [==============================] - 5s 8ms/step - loss: 1.6087 - accuracy: 0.6167 - val_loss: 0.8271 - val_accuracy: 0.6322\n",
            "Epoch 2/5\n",
            "530/530 [==============================] - 4s 8ms/step - loss: 0.7816 - accuracy: 0.6775 - val_loss: 1.2632 - val_accuracy: 0.4895\n",
            "Epoch 3/5\n",
            "530/530 [==============================] - 4s 7ms/step - loss: 0.7489 - accuracy: 0.6921 - val_loss: 0.8027 - val_accuracy: 0.6754\n",
            "Epoch 4/5\n",
            "530/530 [==============================] - 4s 7ms/step - loss: 0.7264 - accuracy: 0.7030 - val_loss: 0.6829 - val_accuracy: 0.7201\n",
            "Epoch 5/5\n",
            "530/530 [==============================] - 4s 8ms/step - loss: 0.7011 - accuracy: 0.7126 - val_loss: 0.6688 - val_accuracy: 0.7288\n",
            "CPU times: user 25.6 s, sys: 1.58 s, total: 27.2 s\n",
            "Wall time: 42.4 s\n"
          ]
        }
      ],
      "source": [
        "%%time\n",
        "history = model.fit(x_train, y_train, batch_size = 32, epochs = 5, validation_data = (x_test, y_test))"
      ]
    },
    {
      "cell_type": "code",
      "source": [
        "plt.plot(history.history['accuracy'], label = 'Train Accuracy')\n",
        "plt.plot(history.history['val_accuracy'], label = 'Test Accuracy')\n",
        "plt.legend()\n",
        "plt.show()"
      ],
      "metadata": {
        "colab": {
          "base_uri": "https://localhost:8080/",
          "height": 265
        },
        "id": "joUlRUm9G6m8",
        "outputId": "ea80e318-1094-4029-a027-294ee94b1bec"
      },
      "id": "joUlRUm9G6m8",
      "execution_count": 33,
      "outputs": [
        {
          "output_type": "display_data",
          "data": {
            "text/plain": [
              "<Figure size 432x288 with 1 Axes>"
            ],
            "image/png": "[encoded data removed]"
          },
          "metadata": {
            "needs_background": "light"
          }
        }
      ]
    },
    {
      "cell_type": "code",
      "source": [
        "plt.plot(history.history['loss'], label = 'Train loss')\n",
        "plt.plot(history.history['val_loss'], label = 'Test loss')\n",
        "plt.legend()\n",
        "plt.show()"
      ],
      "metadata": {
        "colab": {
          "base_uri": "https://localhost:8080/",
          "height": 265
        },
        "id": "fy6AMX22NkE3",
        "outputId": "bbf2df72-3bce-4fd1-d52c-c57f2d9e390a"
      },
      "id": "fy6AMX22NkE3",
      "execution_count": 34,
      "outputs": [
        {
          "output_type": "display_data",
          "data": {
            "text/plain": [
              "<Figure size 432x288 with 1 Axes>"
            ],
            "image/png": "[encoded data removed]"
          },
          "metadata": {
            "needs_background": "light"
          }
        }
      ]
    },
    {
      "cell_type": "code",
      "source": [
        "model.evaluate(x_test, y_test)"
      ],
      "metadata": {
        "colab": {
          "base_uri": "https://localhost:8080/"
        },
        "id": "VoeLGfg2Ol-u",
        "outputId": "758875fa-7296-42f9-bfc1-66eeb431c85c"
      },
      "id": "VoeLGfg2Ol-u",
      "execution_count": 35,
      "outputs": [
        {
          "output_type": "stream",
          "name": "stdout",
          "text": [
            "133/133 [==============================] - 1s 4ms/step - loss: 0.6688 - accuracy: 0.7288\n"
          ]
        },
        {
          "output_type": "execute_result",
          "data": {
            "text/plain": [
              "[0.6688176989555359, 0.7287975549697876]"
            ]
          },
          "metadata": {},
          "execution_count": 35
        }
      ]
    }
  ],
  "metadata": {
    "kernelspec": {
      "display_name": "Python 3 (ipykernel)",
      "language": "python",
      "name": "python3"
    },
    "language_info": {
      "codemirror_mode": {
        "name": "ipython",
        "version": 3
      },
      "file_extension": ".py",
      "mimetype": "text/x-python",
      "name": "python",
      "nbconvert_exporter": "python",
      "pygments_lexer": "ipython3",
      "version": "3.10.4"
    },
    "colab": {
      "provenance": [],
      "toc_visible": true
    },
    "accelerator": "GPU"
  },
  "nbformat": 4,
  "nbformat_minor": 5
}