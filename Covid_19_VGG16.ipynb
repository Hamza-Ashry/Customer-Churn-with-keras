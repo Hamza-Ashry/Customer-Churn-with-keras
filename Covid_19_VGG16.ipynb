{
 "cells": [
  {
   "cell_type": "code",
   "execution_count": 1,
   "metadata": {
    "id": "tZRSiDYNQLSr"
   },
   "outputs": [],
   "source": [
    "from IPython.core.interactiveshell import import_item\n",
    "import os\n",
    "import cv2\n",
    "import pandas as pd\n",
    "import numpy as np\n",
    "import matplotlib.pyplot as plt\n",
    "import tensorflow as tf \n",
    "import keras\n",
    "from sklearn.model_selection import train_test_split\n",
    "import warnings\n",
    "warnings.filterwarnings('ignore')\n",
    "\n",
    "base = '/content/COVID-19_Radiography_Dataset/'"
   ]
  },
  {
   "cell_type": "code",
   "execution_count": 2,
   "metadata": {
    "colab": {
     "base_uri": "https://localhost:8080/"
    },
    "id": "lOmucKTTzhS_",
    "outputId": "4845915d-72bb-4f60-f5e5-994bb2c926fa"
   },
   "outputs": [
    {
     "name": "stdout",
     "output_type": "stream",
     "text": [
      "['Normal', 'Lung_Opacity', 'COVID', 'Viral Pneumonia']\n"
     ]
    }
   ],
   "source": [
    "folders = os.listdir(base)\n",
    "print(folders)"
   ]
  },
  {
   "cell_type": "code",
   "execution_count": 3,
   "metadata": {
    "colab": {
     "base_uri": "https://localhost:8080/"
    },
    "id": "8T7bCaRIzhWT",
    "outputId": "8557fbd3-4f9f-457d-aa27-8b3c7814bff1"
   },
   "outputs": [
    {
     "name": "stdout",
     "output_type": "stream",
     "text": [
      "CPU times: user 2min 1s, sys: 41.9 s, total: 2min 43s\n",
      "Wall time: 1min 20s\n"
     ]
    }
   ],
   "source": [
    "%%time\n",
    "\n",
    "Data, Lables = [], []\n",
    "\n",
    "for item in folders:\n",
    "    new_path = os.path.join(base, item)\n",
    "    new_path += '/images'\n",
    "    for img in os.listdir(new_path):\n",
    "        img_path = os.path.join(new_path, img)\n",
    "        Data.append(np.array(cv2.resize(cv2.imread(img_path).astype('float32') / 255.0, (200,200))))\n",
    "        Lables.append(folders.index(item))"
   ]
  },
  {
   "cell_type": "code",
   "execution_count": 4,
   "metadata": {
    "id": "vu15N7GgzhY_"
   },
   "outputs": [],
   "source": [
    "x_train, x_test, y_train, y_test = train_test_split(Data, Lables, test_size = .2, random_state = 1)"
   ]
  },
  {
   "cell_type": "code",
   "execution_count": 5,
   "metadata": {
    "id": "FEvKUsPaTZbW"
   },
   "outputs": [],
   "source": [
    "x_train = np.array(x_train)\n",
    "x_test = np.array(x_test)\n",
    "y_train = np.array(y_train)\n",
    "y_test = np.array(y_test)"
   ]
  },
  {
   "cell_type": "code",
   "execution_count": 9,
   "metadata": {
    "id": "-RhUTUVIzhbe"
   },
   "outputs": [],
   "source": [
    "vgg16 = keras.applications.vgg16.VGG16(input_shape = x_train[0].shape, weights = 'imagenet', include_top = False)"
   ]
  },
  {
   "cell_type": "code",
   "execution_count": 11,
   "metadata": {
    "id": "4dUCuJKKVTbH"
   },
   "outputs": [],
   "source": [
    "for layer in vgg16.layers:\n",
    "  layer.trainable = False"
   ]
  },
  {
   "cell_type": "code",
   "execution_count": 12,
   "metadata": {
    "id": "yAy9aGrvVhP8"
   },
   "outputs": [],
   "source": [
    "x = keras.layers.Flatten()(vgg16.output)"
   ]
  },
  {
   "cell_type": "code",
   "execution_count": 13,
   "metadata": {
    "id": "quVzvCZ4VhS8"
   },
   "outputs": [],
   "source": [
    "prediction = keras.layers.Dense(len(folders), activation = 'softmax')(x)"
   ]
  },
  {
   "cell_type": "code",
   "execution_count": 17,
   "metadata": {
    "id": "GC32_oRDWFg0"
   },
   "outputs": [],
   "source": [
    "model = keras.models.Model(vgg16.input, prediction)"
   ]
  },
  {
   "cell_type": "code",
   "execution_count": 18,
   "metadata": {
    "colab": {
     "base_uri": "https://localhost:8080/"
    },
    "id": "ft7pFlU_zhd_",
    "outputId": "4fe18b35-bd94-484d-f964-81dfe05ee3ff"
   },
   "outputs": [
    {
     "name": "stdout",
     "output_type": "stream",
     "text": [
      "Model: \"model\"\n",
      "_________________________________________________________________\n",
      " Layer (type)                Output Shape              Param #   \n",
      "=================================================================\n",
      " input_3 (InputLayer)        [(None, 200, 200, 3)]     0         \n",
      "                                                                 \n",
      " block1_conv1 (Conv2D)       (None, 200, 200, 64)      1792      \n",
      "                                                                 \n",
      " block1_conv2 (Conv2D)       (None, 200, 200, 64)      36928     \n",
      "                                                                 \n",
      " block1_pool (MaxPooling2D)  (None, 100, 100, 64)      0         \n",
      "                                                                 \n",
      " block2_conv1 (Conv2D)       (None, 100, 100, 128)     73856     \n",
      "                                                                 \n",
      " block2_conv2 (Conv2D)       (None, 100, 100, 128)     147584    \n",
      "                                                                 \n",
      " block2_pool (MaxPooling2D)  (None, 50, 50, 128)       0         \n",
      "                                                                 \n",
      " block3_conv1 (Conv2D)       (None, 50, 50, 256)       295168    \n",
      "                                                                 \n",
      " block3_conv2 (Conv2D)       (None, 50, 50, 256)       590080    \n",
      "                                                                 \n",
      " block3_conv3 (Conv2D)       (None, 50, 50, 256)       590080    \n",
      "                                                                 \n",
      " block3_pool (MaxPooling2D)  (None, 25, 25, 256)       0         \n",
      "                                                                 \n",
      " block4_conv1 (Conv2D)       (None, 25, 25, 512)       1180160   \n",
      "                                                                 \n",
      " block4_conv2 (Conv2D)       (None, 25, 25, 512)       2359808   \n",
      "                                                                 \n",
      " block4_conv3 (Conv2D)       (None, 25, 25, 512)       2359808   \n",
      "                                                                 \n",
      " block4_pool (MaxPooling2D)  (None, 12, 12, 512)       0         \n",
      "                                                                 \n",
      " block5_conv1 (Conv2D)       (None, 12, 12, 512)       2359808   \n",
      "                                                                 \n",
      " block5_conv2 (Conv2D)       (None, 12, 12, 512)       2359808   \n",
      "                                                                 \n",
      " block5_conv3 (Conv2D)       (None, 12, 12, 512)       2359808   \n",
      "                                                                 \n",
      " block5_pool (MaxPooling2D)  (None, 6, 6, 512)         0         \n",
      "                                                                 \n",
      " flatten (Flatten)           (None, 18432)             0         \n",
      "                                                                 \n",
      " dense (Dense)               (None, 4)                 73732     \n",
      "                                                                 \n",
      "=================================================================\n",
      "Total params: 14,788,420\n",
      "Trainable params: 73,732\n",
      "Non-trainable params: 14,714,688\n",
      "_________________________________________________________________\n"
     ]
    }
   ],
   "source": [
    "model.summary()"
   ]
  },
  {
   "cell_type": "code",
   "execution_count": 19,
   "metadata": {
    "id": "_vqa3R-L01z-"
   },
   "outputs": [],
   "source": [
    "model.compile(optimizer = 'adam', loss = 'sparse_categorical_crossentropy', metrics = ['accuracy'])"
   ]
  },
  {
   "cell_type": "code",
   "execution_count": 20,
   "metadata": {
    "colab": {
     "base_uri": "https://localhost:8080/"
    },
    "id": "AN7GRzIK012Z",
    "outputId": "0e8b3eb5-a7ff-47a4-94b3-3c68e064303e"
   },
   "outputs": [
    {
     "name": "stdout",
     "output_type": "stream",
     "text": [
      "Epoch 1/5\n",
      "530/530 [==============================] - 4389s 8s/step - loss: 0.4105 - accuracy: 0.8466 - val_loss: 0.4481 - val_accuracy: 0.8313\n",
      "Epoch 2/5\n",
      "530/530 [==============================] - 4411s 8s/step - loss: 0.2557 - accuracy: 0.9071 - val_loss: 0.2835 - val_accuracy: 0.8923\n",
      "Epoch 3/5\n",
      "530/530 [==============================] - 4300s 8s/step - loss: 0.2219 - accuracy: 0.9197 - val_loss: 0.2613 - val_accuracy: 0.8984\n",
      "Epoch 4/5\n",
      "530/530 [==============================] - 4309s 8s/step - loss: 0.1954 - accuracy: 0.9303 - val_loss: 0.2465 - val_accuracy: 0.9100\n",
      "Epoch 5/5\n",
      "530/530 [==============================] - 4359s 8s/step - loss: 0.1700 - accuracy: 0.9412 - val_loss: 0.2672 - val_accuracy: 0.9081\n",
      "CPU times: user 23h 5min 50s, sys: 10min 27s, total: 23h 16min 17s\n",
      "Wall time: 6h 3min 23s\n"
     ]
    }
   ],
   "source": [
    "%%time\n",
    "history = model.fit(x_train, y_train, batch_size = 32, epochs = 5, validation_data = (x_test, y_test))"
   ]
  },
  {
   "cell_type": "code",
   "execution_count": 22,
   "metadata": {
    "colab": {
     "base_uri": "https://localhost:8080/",
     "height": 265
    },
    "id": "5I6FWXaLWjCn",
    "outputId": "267cedb8-f4ae-4f0b-9ea1-ecf91176c5f7"
   },
   "outputs": [
    {
     "data": {
      "image/png": "[encoded data removed]",
      "text/plain": [
       "<Figure size 432x288 with 1 Axes>"
      ]
     },
     "metadata": {
      "needs_background": "light"
     },
     "output_type": "display_data"
    }
   ],
   "source": [
    "plt.plot(history.history['accuracy'], label = 'Train Accuracy')\n",
    "plt.plot(history.history['val_accuracy'], label = 'Test Accuracy')\n",
    "plt.legend()\n",
    "plt.show()"
   ]
  },
  {
   "cell_type": "code",
   "execution_count": 24,
   "metadata": {
    "colab": {
     "base_uri": "https://localhost:8080/",
     "height": 265
    },
    "id": "l8Z_JV_eWjMA",
    "outputId": "58927661-39fa-49f2-ee37-d68fc6db8fb3"
   },
   "outputs": [
    {
     "data": {
      "image/png": "[encoded data removed]",
      "text/plain": [
       "<Figure size 432x288 with 1 Axes>"
      ]
     },
     "metadata": {
      "needs_background": "light"
     },
     "output_type": "display_data"
    }
   ],
   "source": [
    "plt.plot(history.history['loss'], label = 'Train Loss')\n",
    "plt.plot(history.history['val_loss'], label = 'Test Loss')\n",
    "plt.legend()\n",
    "plt.show()"
   ]
  },
  {
   "cell_type": "code",
   "execution_count": 25,
   "metadata": {
    "colab": {
     "base_uri": "https://localhost:8080/"
    },
    "id": "Rs6MU8xfWjZC",
    "outputId": "7d43b649-2154-4e03-fa78-f35a7b2a2c80"
   },
   "outputs": [
    {
     "name": "stdout",
     "output_type": "stream",
     "text": [
      "133/133 [==============================] - 862s 6s/step - loss: 0.2672 - accuracy: 0.9081\n"
     ]
    },
    {
     "data": {
      "text/plain": [
       "[0.26722660660743713, 0.9081029891967773]"
      ]
     },
     "execution_count": 25,
     "metadata": {},
     "output_type": "execute_result"
    }
   ],
   "source": [
    "model.evaluate(x_test, y_test)"
   ]
  }
 ],
 "metadata": {
  "colab": {
   "collapsed_sections": [],
   "machine_shape": "hm",
   "provenance": []
  },
  "kernelspec": {
   "display_name": "Python 3 (ipykernel)",
   "language": "python",
   "name": "python3"
  },
  "language_info": {
   "codemirror_mode": {
    "name": "ipython",
    "version": 3
   },
   "file_extension": ".py",
   "mimetype": "text/x-python",
   "name": "python",
   "nbconvert_exporter": "python",
   "pygments_lexer": "ipython3",
   "version": "3.10.4"
  }
 },
 "nbformat": 4,
 "nbformat_minor": 1
}
