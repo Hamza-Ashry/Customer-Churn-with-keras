{
  "nbformat": 4,
  "nbformat_minor": 0,
  "metadata": {
    "colab": {
      "provenance": [],
      "collapsed_sections": [],
      "machine_shape": "hm"
    },
    "kernelspec": {
      "name": "python3",
      "display_name": "Python 3"
    },
    "accelerator": "GPU"
  },
  "cells": [
    {
      "cell_type": "code",
      "metadata": {
        "id": "tZRSiDYNQLSr"
      },
      "source": [
        "import os\n",
        "import cv2\n",
        "import pandas as pd\n",
        "import numpy as np\n",
        "import matplotlib.pyplot as plt\n",
        "import tensorflow as tf \n",
        "import keras\n",
        "import tensorflow_addons as tfa\n",
        "from sklearn.model_selection import train_test_split\n",
        "import warnings\n",
        "warnings.filterwarnings('ignore')\n",
        "\n",
        "base = '/content/COVID-19_Radiography_Dataset/'"
      ],
      "execution_count": 11,
      "outputs": []
    },
    {
      "cell_type": "code",
      "source": [
        "folders = os.listdir(base)\n",
        "print(folders)"
      ],
      "metadata": {
        "id": "lmeuVFdLSnnV",
        "outputId": "21cab421-f9a2-4c91-9316-0756a81a17e3",
        "colab": {
          "base_uri": "https://localhost:8080/"
        }
      },
      "execution_count": 15,
      "outputs": [
        {
          "output_type": "stream",
          "name": "stdout",
          "text": [
            "['Normal', 'COVID', 'Viral Pneumonia', 'Lung_Opacity']\n"
          ]
        }
      ]
    },
    {
      "cell_type": "code",
      "source": [
        "%%time\n",
        "\n",
        "Data, Lables = [], []\n",
        "\n",
        "for item in folders:\n",
        "  new_path = os.path.join(base, item)\n",
        "  new_path += '/images'\n",
        "  for img in os.listdir(new_path):\n",
        "    img_path = os.path.join(new_path, img)\n",
        "    Data.append(np.array(cv2.resize(cv2.imread(img_path).astype('float32'), (72,72))))\n",
        "    Lables.append(folders.index(item))"
      ],
      "metadata": {
        "id": "AYJyqHakSnw2",
        "outputId": "18450651-e2dd-4704-84b1-40567630e4bf",
        "colab": {
          "base_uri": "https://localhost:8080/"
        }
      },
      "execution_count": 16,
      "outputs": [
        {
          "output_type": "stream",
          "name": "stdout",
          "text": [
            "CPU times: user 56 s, sys: 11.7 s, total: 1min 7s\n",
            "Wall time: 41.8 s\n"
          ]
        }
      ]
    },
    {
      "cell_type": "code",
      "source": [
        "Data = np.array(Data)\n",
        "Lables = np.array(Lables)\n",
        "print('Data Shape', Data.shape)\n",
        "print('Lable Shape', Lables.shape)"
      ],
      "metadata": {
        "id": "CeB0nVIhXT4R",
        "outputId": "08375a74-91ff-4b4f-e65f-f1caa4654ca1",
        "colab": {
          "base_uri": "https://localhost:8080/"
        }
      },
      "execution_count": 17,
      "outputs": [
        {
          "output_type": "stream",
          "name": "stdout",
          "text": [
            "Data Shape (21165, 72, 72, 3)\n",
            "Lable Shape (21165,)\n"
          ]
        }
      ]
    },
    {
      "cell_type": "code",
      "source": [
        "x_train, x_test, y_train, y_test = train_test_split(Data, Lables, test_size = .2, random_state = 1)"
      ],
      "metadata": {
        "id": "yVEi2ju2Xst5"
      },
      "execution_count": 18,
      "outputs": []
    },
    {
      "cell_type": "code",
      "source": [
        "print('x_train Shape', x_train.shape)\n",
        "print('x_test Shape', x_test.shape)\n",
        "print('y_train Shape', y_train.shape)\n",
        "print('y_test Shape', y_test.shape)"
      ],
      "metadata": {
        "id": "Maifr21TXwZd",
        "outputId": "37ee8334-ffeb-44b0-84b7-a8a28692c26d",
        "colab": {
          "base_uri": "https://localhost:8080/"
        }
      },
      "execution_count": 19,
      "outputs": [
        {
          "output_type": "stream",
          "name": "stdout",
          "text": [
            "x_train Shape (16932, 72, 72, 3)\n",
            "x_test Shape (4233, 72, 72, 3)\n",
            "y_train Shape (16932,)\n",
            "y_test Shape (4233,)\n"
          ]
        }
      ]
    },
    {
      "cell_type": "code",
      "source": [
        "learning_rate = 0.001\n",
        "weight_decay = 0.0001\n",
        "batch_size = 256\n",
        "num_epochs = 100\n",
        "image_size = Data[0].shape[0]  \n",
        "patch_size = 6  \n",
        "num_patches = (image_size // patch_size) ** 2\n",
        "projection_dim = 64\n",
        "num_heads = 4\n",
        "transformer_units = [\n",
        "    projection_dim * 2,\n",
        "    projection_dim,\n",
        "]  \n",
        "transformer_layers = 8\n",
        "mlp_head_units = [2048, 1024] "
      ],
      "metadata": {
        "id": "KMAkiNeYXwcW"
      },
      "execution_count": 20,
      "outputs": []
    },
    {
      "cell_type": "code",
      "source": [
        "data_augmentation = keras.Sequential(\n",
        "    [\n",
        "        keras.layers.Normalization(),\n",
        "        keras.layers.Resizing(image_size, image_size),\n",
        "        keras.layers.RandomFlip(\"horizontal\"),\n",
        "        keras.layers.RandomRotation(factor=0.02),\n",
        "        keras.layers.RandomZoom(height_factor=0.2, width_factor=0.2),\n",
        "    ],\n",
        "    name=\"data_augmentation\",\n",
        ")\n",
        "# Compute the mean and the variance of the training data for normalization.\n",
        "data_augmentation.layers[0].adapt(x_train)"
      ],
      "metadata": {
        "id": "pAwoXpbmXwe1"
      },
      "execution_count": 21,
      "outputs": []
    },
    {
      "cell_type": "code",
      "source": [
        "def mlp(x, hidden_units, dropout_rate):\n",
        "    for units in hidden_units:\n",
        "        x = keras.layers.Dense(units, activation=tf.nn.gelu)(x)\n",
        "        x = keras.layers.Dropout(dropout_rate)(x)\n",
        "    return x"
      ],
      "metadata": {
        "id": "UWfn4WWIXwhN"
      },
      "execution_count": 22,
      "outputs": []
    },
    {
      "cell_type": "code",
      "source": [
        "class Patches(keras.layers.Layer):\n",
        "    def __init__(self, patch_size):\n",
        "        super(Patches, self).__init__()\n",
        "        self.patch_size = patch_size\n",
        "\n",
        "    def call(self, images):\n",
        "        batch_size = tf.shape(images)[0]\n",
        "        patches = tf.image.extract_patches(\n",
        "            images=images,\n",
        "            sizes=[1, self.patch_size, self.patch_size, 1],\n",
        "            strides=[1, self.patch_size, self.patch_size, 1],\n",
        "            rates=[1, 1, 1, 1],\n",
        "            padding=\"VALID\",\n",
        "        )\n",
        "        patch_dims = patches.shape[-1]\n",
        "        patches = tf.reshape(patches, [batch_size, -1, patch_dims])\n",
        "        return patches"
      ],
      "metadata": {
        "id": "llD8jADIXwjv"
      },
      "execution_count": 23,
      "outputs": []
    },
    {
      "cell_type": "code",
      "source": [
        "class PatchEncoder(keras.layers.Layer):\n",
        "    def __init__(self, num_patches, projection_dim):\n",
        "        super(PatchEncoder, self).__init__()\n",
        "        self.num_patches = num_patches\n",
        "        self.projection = keras.layers.Dense(units=projection_dim)\n",
        "        self.position_embedding = keras.layers.Embedding(\n",
        "            input_dim=num_patches, output_dim=projection_dim\n",
        "        )\n",
        "\n",
        "    def call(self, patch):\n",
        "        positions = tf.range(start=0, limit=self.num_patches, delta=1)\n",
        "        encoded = self.projection(patch) + self.position_embedding(positions)\n",
        "        return encoded"
      ],
      "metadata": {
        "id": "wmUC0MgjfrZd"
      },
      "execution_count": 24,
      "outputs": []
    },
    {
      "cell_type": "code",
      "source": [
        "def create_vit_classifier():\n",
        "    inputs = keras.layers.Input(shape = Data[0].shape)\n",
        "    # Augment data.\n",
        "    augmented = data_augmentation(inputs)\n",
        "    # Create patches.\n",
        "    patches = Patches(patch_size)(augmented)\n",
        "    # Encode patches.\n",
        "    encoded_patches = PatchEncoder(num_patches, projection_dim)(patches)\n",
        "\n",
        "    # Create multiple layers of the Transformer block.\n",
        "    for _ in range(transformer_layers):\n",
        "        # Layer normalization 1.\n",
        "        x1 = keras.layers.LayerNormalization(epsilon=1e-6)(encoded_patches)\n",
        "        # Create a multi-head attention layer.\n",
        "        attention_output = keras.layers.MultiHeadAttention(\n",
        "            num_heads=num_heads, key_dim=projection_dim, dropout=0.1\n",
        "        )(x1, x1)\n",
        "        # Skip connection 1.\n",
        "        x2 = keras.layers.Add()([attention_output, encoded_patches])\n",
        "        # Layer normalization 2.\n",
        "        x3 = keras.layers.LayerNormalization(epsilon=1e-6)(x2)\n",
        "        # MLP.\n",
        "        x3 = mlp(x3, hidden_units=transformer_units, dropout_rate=0.1)\n",
        "        # Skip connection 2.\n",
        "        encoded_patches = keras.layers.Add()([x3, x2])\n",
        "\n",
        "    # Create a [batch_size, projection_dim] tensor.\n",
        "    representation = keras.layers.LayerNormalization(epsilon=1e-6)(encoded_patches)\n",
        "    representation = keras.layers.Flatten()(representation)\n",
        "    representation = keras.layers.Dropout(0.5)(representation)\n",
        "    # Add MLP.\n",
        "    features = mlp(representation, hidden_units=mlp_head_units, dropout_rate=0.5)\n",
        "    # Classify outputs.\n",
        "    logits = keras.layers.Dense(len(folders))(features)\n",
        "    # Create the Keras model.\n",
        "    model = keras.Model(inputs=inputs, outputs=logits)\n",
        "    return model"
      ],
      "metadata": {
        "id": "KL2oCXhAf2PJ"
      },
      "execution_count": 25,
      "outputs": []
    },
    {
      "cell_type": "code",
      "source": [
        "def run_experiment(model):\n",
        "    optimizer = tfa.optimizers.AdamW(\n",
        "        learning_rate=learning_rate, weight_decay=weight_decay\n",
        "    )\n",
        "\n",
        "    model.compile(\n",
        "        optimizer=optimizer,\n",
        "        loss=keras.losses.SparseCategoricalCrossentropy(from_logits=True),\n",
        "        metrics=[\n",
        "            keras.metrics.SparseCategoricalAccuracy(name=\"accuracy\"),\n",
        "        ],\n",
        "    )\n",
        "\n",
        "    checkpoint_filepath = \"/tmp/checkpoint\"\n",
        "    checkpoint_callback = keras.callbacks.ModelCheckpoint(\n",
        "        checkpoint_filepath,\n",
        "        monitor=\"val_accuracy\",\n",
        "        save_best_only=True,\n",
        "        save_weights_only=True,\n",
        "    )\n",
        "\n",
        "    history = model.fit(\n",
        "        x=x_train,\n",
        "        y=y_train,\n",
        "        batch_size=batch_size,\n",
        "        epochs=num_epochs,\n",
        "        validation_split=0.1,\n",
        "        callbacks=[checkpoint_callback],\n",
        "    )\n",
        "\n",
        "    model.load_weights(checkpoint_filepath)\n",
        "    _, accuracy = model.evaluate(x_test, y_test)\n",
        "    print(f\"Test accuracy: {round(accuracy * 100, 2)}%\")\n",
        "\n",
        "    return history\n",
        "\n",
        "\n",
        "vit_classifier = create_vit_classifier()\n",
        "history = run_experiment(vit_classifier)"
      ],
      "metadata": {
        "id": "ez1TmXDkhC3o",
        "outputId": "92427370-20a7-4513-e8fd-67351b8b8879",
        "colab": {
          "base_uri": "https://localhost:8080/"
        }
      },
      "execution_count": 29,
      "outputs": [
        {
          "output_type": "stream",
          "name": "stdout",
          "text": [
            "Epoch 1/100\n",
            "60/60 [==============================] - 34s 419ms/step - loss: 1.5022 - accuracy: 0.5725 - val_loss: 0.7198 - val_accuracy: 0.7084\n",
            "Epoch 2/100\n",
            "60/60 [==============================] - 24s 400ms/step - loss: 0.8257 - accuracy: 0.6587 - val_loss: 0.7420 - val_accuracy: 0.7125\n",
            "Epoch 3/100\n",
            "60/60 [==============================] - 24s 400ms/step - loss: 0.7448 - accuracy: 0.6968 - val_loss: 0.6318 - val_accuracy: 0.7769\n",
            "Epoch 4/100\n",
            "60/60 [==============================] - 23s 382ms/step - loss: 0.6954 - accuracy: 0.7222 - val_loss: 0.5763 - val_accuracy: 0.7698\n",
            "Epoch 5/100\n",
            "60/60 [==============================] - 23s 384ms/step - loss: 0.6541 - accuracy: 0.7394 - val_loss: 0.5574 - val_accuracy: 0.7739\n",
            "Epoch 6/100\n",
            "60/60 [==============================] - 24s 399ms/step - loss: 0.6207 - accuracy: 0.7586 - val_loss: 0.5181 - val_accuracy: 0.7999\n",
            "Epoch 7/100\n",
            "60/60 [==============================] - 24s 398ms/step - loss: 0.5873 - accuracy: 0.7716 - val_loss: 0.5055 - val_accuracy: 0.8099\n",
            "Epoch 8/100\n",
            "60/60 [==============================] - 23s 384ms/step - loss: 0.5698 - accuracy: 0.7799 - val_loss: 0.5136 - val_accuracy: 0.7875\n",
            "Epoch 9/100\n",
            "60/60 [==============================] - 23s 385ms/step - loss: 0.5629 - accuracy: 0.7836 - val_loss: 0.4816 - val_accuracy: 0.8022\n",
            "Epoch 10/100\n",
            "60/60 [==============================] - 24s 399ms/step - loss: 0.5427 - accuracy: 0.7910 - val_loss: 0.4397 - val_accuracy: 0.8235\n",
            "Epoch 11/100\n",
            "60/60 [==============================] - 23s 384ms/step - loss: 0.5190 - accuracy: 0.7987 - val_loss: 0.4631 - val_accuracy: 0.8211\n",
            "Epoch 12/100\n",
            "60/60 [==============================] - 23s 384ms/step - loss: 0.5009 - accuracy: 0.8055 - val_loss: 0.4448 - val_accuracy: 0.8129\n",
            "Epoch 13/100\n",
            "60/60 [==============================] - 23s 384ms/step - loss: 0.4985 - accuracy: 0.8079 - val_loss: 0.4467 - val_accuracy: 0.8152\n",
            "Epoch 14/100\n",
            "60/60 [==============================] - 23s 384ms/step - loss: 0.4899 - accuracy: 0.8161 - val_loss: 0.4862 - val_accuracy: 0.8070\n",
            "Epoch 15/100\n",
            "60/60 [==============================] - 24s 398ms/step - loss: 0.4828 - accuracy: 0.8207 - val_loss: 0.4057 - val_accuracy: 0.8506\n",
            "Epoch 16/100\n",
            "60/60 [==============================] - 23s 384ms/step - loss: 0.4816 - accuracy: 0.8177 - val_loss: 0.4148 - val_accuracy: 0.8495\n",
            "Epoch 17/100\n",
            "60/60 [==============================] - 23s 385ms/step - loss: 0.4597 - accuracy: 0.8273 - val_loss: 0.4064 - val_accuracy: 0.8471\n",
            "Epoch 18/100\n",
            "60/60 [==============================] - 24s 399ms/step - loss: 0.4529 - accuracy: 0.8288 - val_loss: 0.3880 - val_accuracy: 0.8660\n",
            "Epoch 19/100\n",
            "60/60 [==============================] - 23s 384ms/step - loss: 0.4388 - accuracy: 0.8351 - val_loss: 0.3954 - val_accuracy: 0.8589\n",
            "Epoch 20/100\n",
            "60/60 [==============================] - 23s 385ms/step - loss: 0.4407 - accuracy: 0.8330 - val_loss: 0.4020 - val_accuracy: 0.8518\n",
            "Epoch 21/100\n",
            "60/60 [==============================] - 23s 388ms/step - loss: 0.4271 - accuracy: 0.8372 - val_loss: 0.3830 - val_accuracy: 0.8548\n",
            "Epoch 22/100\n",
            "60/60 [==============================] - 23s 385ms/step - loss: 0.4248 - accuracy: 0.8379 - val_loss: 0.3743 - val_accuracy: 0.8625\n",
            "Epoch 23/100\n",
            "60/60 [==============================] - 23s 385ms/step - loss: 0.4193 - accuracy: 0.8409 - val_loss: 0.3704 - val_accuracy: 0.8595\n",
            "Epoch 24/100\n",
            "60/60 [==============================] - 23s 384ms/step - loss: 0.4136 - accuracy: 0.8432 - val_loss: 0.3498 - val_accuracy: 0.8583\n",
            "Epoch 25/100\n",
            "60/60 [==============================] - 24s 398ms/step - loss: 0.4102 - accuracy: 0.8453 - val_loss: 0.3478 - val_accuracy: 0.8725\n",
            "Epoch 26/100\n",
            "60/60 [==============================] - 23s 385ms/step - loss: 0.4039 - accuracy: 0.8484 - val_loss: 0.3764 - val_accuracy: 0.8518\n",
            "Epoch 27/100\n",
            "60/60 [==============================] - 23s 385ms/step - loss: 0.4001 - accuracy: 0.8497 - val_loss: 0.3485 - val_accuracy: 0.8695\n",
            "Epoch 28/100\n",
            "60/60 [==============================] - 24s 398ms/step - loss: 0.3844 - accuracy: 0.8544 - val_loss: 0.3531 - val_accuracy: 0.8766\n",
            "Epoch 29/100\n",
            "60/60 [==============================] - 23s 385ms/step - loss: 0.3874 - accuracy: 0.8554 - val_loss: 0.3395 - val_accuracy: 0.8754\n",
            "Epoch 30/100\n",
            "60/60 [==============================] - 23s 384ms/step - loss: 0.3908 - accuracy: 0.8573 - val_loss: 0.3638 - val_accuracy: 0.8695\n",
            "Epoch 31/100\n",
            "60/60 [==============================] - 23s 384ms/step - loss: 0.3718 - accuracy: 0.8609 - val_loss: 0.3447 - val_accuracy: 0.8707\n",
            "Epoch 32/100\n",
            "60/60 [==============================] - 23s 385ms/step - loss: 0.3847 - accuracy: 0.8564 - val_loss: 0.3531 - val_accuracy: 0.8648\n",
            "Epoch 33/100\n",
            "60/60 [==============================] - 23s 385ms/step - loss: 0.3733 - accuracy: 0.8600 - val_loss: 0.3570 - val_accuracy: 0.8560\n",
            "Epoch 34/100\n",
            "60/60 [==============================] - 24s 398ms/step - loss: 0.3595 - accuracy: 0.8632 - val_loss: 0.3386 - val_accuracy: 0.8772\n",
            "Epoch 35/100\n",
            "60/60 [==============================] - 24s 399ms/step - loss: 0.3732 - accuracy: 0.8616 - val_loss: 0.3254 - val_accuracy: 0.8855\n",
            "Epoch 36/100\n",
            "60/60 [==============================] - 23s 384ms/step - loss: 0.3604 - accuracy: 0.8663 - val_loss: 0.3247 - val_accuracy: 0.8737\n",
            "Epoch 37/100\n",
            "60/60 [==============================] - 23s 385ms/step - loss: 0.3488 - accuracy: 0.8702 - val_loss: 0.3432 - val_accuracy: 0.8689\n",
            "Epoch 38/100\n",
            "60/60 [==============================] - 23s 385ms/step - loss: 0.3566 - accuracy: 0.8674 - val_loss: 0.3548 - val_accuracy: 0.8619\n",
            "Epoch 39/100\n",
            "60/60 [==============================] - 23s 384ms/step - loss: 0.3610 - accuracy: 0.8651 - val_loss: 0.3500 - val_accuracy: 0.8707\n",
            "Epoch 40/100\n",
            "60/60 [==============================] - 24s 399ms/step - loss: 0.3558 - accuracy: 0.8724 - val_loss: 0.3362 - val_accuracy: 0.8861\n",
            "Epoch 41/100\n",
            "60/60 [==============================] - 24s 398ms/step - loss: 0.3438 - accuracy: 0.8691 - val_loss: 0.3222 - val_accuracy: 0.8872\n",
            "Epoch 42/100\n",
            "60/60 [==============================] - 23s 385ms/step - loss: 0.3316 - accuracy: 0.8746 - val_loss: 0.3380 - val_accuracy: 0.8796\n",
            "Epoch 43/100\n",
            "60/60 [==============================] - 24s 398ms/step - loss: 0.3292 - accuracy: 0.8765 - val_loss: 0.3365 - val_accuracy: 0.8878\n",
            "Epoch 44/100\n",
            "60/60 [==============================] - 23s 384ms/step - loss: 0.3301 - accuracy: 0.8765 - val_loss: 0.3166 - val_accuracy: 0.8872\n",
            "Epoch 45/100\n",
            "60/60 [==============================] - 23s 385ms/step - loss: 0.3371 - accuracy: 0.8743 - val_loss: 0.3325 - val_accuracy: 0.8737\n",
            "Epoch 46/100\n",
            "60/60 [==============================] - 24s 402ms/step - loss: 0.3354 - accuracy: 0.8726 - val_loss: 0.3181 - val_accuracy: 0.8902\n",
            "Epoch 47/100\n",
            "60/60 [==============================] - 23s 385ms/step - loss: 0.3262 - accuracy: 0.8771 - val_loss: 0.3445 - val_accuracy: 0.8790\n",
            "Epoch 48/100\n",
            "60/60 [==============================] - 23s 385ms/step - loss: 0.3302 - accuracy: 0.8770 - val_loss: 0.3353 - val_accuracy: 0.8790\n",
            "Epoch 49/100\n",
            "60/60 [==============================] - 23s 385ms/step - loss: 0.3308 - accuracy: 0.8789 - val_loss: 0.3206 - val_accuracy: 0.8902\n",
            "Epoch 50/100\n",
            "60/60 [==============================] - 23s 384ms/step - loss: 0.3267 - accuracy: 0.8770 - val_loss: 0.3509 - val_accuracy: 0.8707\n",
            "Epoch 51/100\n",
            "60/60 [==============================] - 23s 385ms/step - loss: 0.3202 - accuracy: 0.8801 - val_loss: 0.3602 - val_accuracy: 0.8725\n",
            "Epoch 52/100\n",
            "60/60 [==============================] - 23s 385ms/step - loss: 0.3187 - accuracy: 0.8822 - val_loss: 0.2993 - val_accuracy: 0.8855\n",
            "Epoch 53/100\n",
            "60/60 [==============================] - 23s 385ms/step - loss: 0.3165 - accuracy: 0.8819 - val_loss: 0.3270 - val_accuracy: 0.8802\n",
            "Epoch 54/100\n",
            "60/60 [==============================] - 24s 398ms/step - loss: 0.3110 - accuracy: 0.8839 - val_loss: 0.2964 - val_accuracy: 0.8937\n",
            "Epoch 55/100\n",
            "60/60 [==============================] - 23s 384ms/step - loss: 0.3022 - accuracy: 0.8847 - val_loss: 0.3112 - val_accuracy: 0.8808\n",
            "Epoch 56/100\n",
            "60/60 [==============================] - 23s 385ms/step - loss: 0.3114 - accuracy: 0.8845 - val_loss: 0.3008 - val_accuracy: 0.8920\n",
            "Epoch 57/100\n",
            "60/60 [==============================] - 23s 385ms/step - loss: 0.2963 - accuracy: 0.8853 - val_loss: 0.3370 - val_accuracy: 0.8825\n",
            "Epoch 58/100\n",
            "60/60 [==============================] - 23s 385ms/step - loss: 0.3057 - accuracy: 0.8857 - val_loss: 0.3380 - val_accuracy: 0.8843\n",
            "Epoch 59/100\n",
            "60/60 [==============================] - 23s 385ms/step - loss: 0.2955 - accuracy: 0.8875 - val_loss: 0.3172 - val_accuracy: 0.8884\n",
            "Epoch 60/100\n",
            "60/60 [==============================] - 23s 384ms/step - loss: 0.3058 - accuracy: 0.8849 - val_loss: 0.3079 - val_accuracy: 0.8896\n",
            "Epoch 61/100\n",
            "60/60 [==============================] - 24s 399ms/step - loss: 0.2913 - accuracy: 0.8923 - val_loss: 0.3076 - val_accuracy: 0.8985\n",
            "Epoch 62/100\n",
            "60/60 [==============================] - 23s 385ms/step - loss: 0.2854 - accuracy: 0.8932 - val_loss: 0.3010 - val_accuracy: 0.8890\n",
            "Epoch 63/100\n",
            "60/60 [==============================] - 23s 385ms/step - loss: 0.2984 - accuracy: 0.8899 - val_loss: 0.3286 - val_accuracy: 0.8867\n",
            "Epoch 64/100\n",
            "60/60 [==============================] - 23s 384ms/step - loss: 0.2789 - accuracy: 0.8939 - val_loss: 0.3113 - val_accuracy: 0.8937\n",
            "Epoch 65/100\n",
            "60/60 [==============================] - 24s 402ms/step - loss: 0.2792 - accuracy: 0.8967 - val_loss: 0.2986 - val_accuracy: 0.9038\n",
            "Epoch 66/100\n",
            "60/60 [==============================] - 23s 384ms/step - loss: 0.2902 - accuracy: 0.8946 - val_loss: 0.3091 - val_accuracy: 0.8896\n",
            "Epoch 67/100\n",
            "60/60 [==============================] - 23s 384ms/step - loss: 0.2863 - accuracy: 0.8945 - val_loss: 0.3067 - val_accuracy: 0.8908\n",
            "Epoch 68/100\n",
            "60/60 [==============================] - 23s 385ms/step - loss: 0.2827 - accuracy: 0.8949 - val_loss: 0.3150 - val_accuracy: 0.8943\n",
            "Epoch 69/100\n",
            "60/60 [==============================] - 23s 384ms/step - loss: 0.2778 - accuracy: 0.8926 - val_loss: 0.3007 - val_accuracy: 0.8979\n",
            "Epoch 70/100\n",
            "60/60 [==============================] - 23s 385ms/step - loss: 0.2814 - accuracy: 0.8963 - val_loss: 0.3075 - val_accuracy: 0.8967\n",
            "Epoch 71/100\n",
            "60/60 [==============================] - 23s 384ms/step - loss: 0.2699 - accuracy: 0.9021 - val_loss: 0.3148 - val_accuracy: 0.8955\n",
            "Epoch 72/100\n",
            "60/60 [==============================] - 23s 385ms/step - loss: 0.2727 - accuracy: 0.8975 - val_loss: 0.3134 - val_accuracy: 0.8979\n",
            "Epoch 73/100\n",
            "60/60 [==============================] - 23s 384ms/step - loss: 0.2722 - accuracy: 0.8964 - val_loss: 0.3050 - val_accuracy: 0.8955\n",
            "Epoch 74/100\n",
            "60/60 [==============================] - 23s 385ms/step - loss: 0.2739 - accuracy: 0.8977 - val_loss: 0.3144 - val_accuracy: 0.8991\n",
            "Epoch 75/100\n",
            "60/60 [==============================] - 23s 385ms/step - loss: 0.2705 - accuracy: 0.8993 - val_loss: 0.3025 - val_accuracy: 0.9002\n",
            "Epoch 76/100\n",
            "60/60 [==============================] - 23s 385ms/step - loss: 0.2598 - accuracy: 0.9046 - val_loss: 0.3014 - val_accuracy: 0.8937\n",
            "Epoch 77/100\n",
            "60/60 [==============================] - 24s 399ms/step - loss: 0.2665 - accuracy: 0.9026 - val_loss: 0.2858 - val_accuracy: 0.9067\n",
            "Epoch 78/100\n",
            "60/60 [==============================] - 23s 384ms/step - loss: 0.2636 - accuracy: 0.9033 - val_loss: 0.3037 - val_accuracy: 0.9020\n",
            "Epoch 79/100\n",
            "60/60 [==============================] - 23s 385ms/step - loss: 0.2551 - accuracy: 0.9029 - val_loss: 0.2921 - val_accuracy: 0.8991\n",
            "Epoch 80/100\n",
            "60/60 [==============================] - 23s 384ms/step - loss: 0.2567 - accuracy: 0.9048 - val_loss: 0.3008 - val_accuracy: 0.8991\n",
            "Epoch 81/100\n",
            "60/60 [==============================] - 23s 384ms/step - loss: 0.2524 - accuracy: 0.9062 - val_loss: 0.3183 - val_accuracy: 0.8914\n",
            "Epoch 82/100\n",
            "60/60 [==============================] - 23s 384ms/step - loss: 0.2620 - accuracy: 0.9023 - val_loss: 0.2916 - val_accuracy: 0.8973\n",
            "Epoch 83/100\n",
            "60/60 [==============================] - 23s 384ms/step - loss: 0.2549 - accuracy: 0.9029 - val_loss: 0.2986 - val_accuracy: 0.8943\n",
            "Epoch 84/100\n",
            "60/60 [==============================] - 23s 385ms/step - loss: 0.2487 - accuracy: 0.9085 - val_loss: 0.3021 - val_accuracy: 0.8955\n",
            "Epoch 85/100\n",
            "60/60 [==============================] - 23s 384ms/step - loss: 0.2442 - accuracy: 0.9086 - val_loss: 0.2968 - val_accuracy: 0.9026\n",
            "Epoch 86/100\n",
            "60/60 [==============================] - 23s 385ms/step - loss: 0.2608 - accuracy: 0.9022 - val_loss: 0.2907 - val_accuracy: 0.9002\n",
            "Epoch 87/100\n",
            "60/60 [==============================] - 23s 385ms/step - loss: 0.2560 - accuracy: 0.9072 - val_loss: 0.3251 - val_accuracy: 0.8861\n",
            "Epoch 88/100\n",
            "60/60 [==============================] - 23s 384ms/step - loss: 0.2569 - accuracy: 0.9068 - val_loss: 0.2759 - val_accuracy: 0.9055\n",
            "Epoch 89/100\n",
            "60/60 [==============================] - 23s 385ms/step - loss: 0.2478 - accuracy: 0.9073 - val_loss: 0.3048 - val_accuracy: 0.8973\n",
            "Epoch 90/100\n",
            "60/60 [==============================] - 23s 384ms/step - loss: 0.2356 - accuracy: 0.9105 - val_loss: 0.2913 - val_accuracy: 0.9061\n",
            "Epoch 91/100\n",
            "60/60 [==============================] - 23s 384ms/step - loss: 0.2452 - accuracy: 0.9097 - val_loss: 0.3016 - val_accuracy: 0.9008\n",
            "Epoch 92/100\n",
            "60/60 [==============================] - 23s 384ms/step - loss: 0.2409 - accuracy: 0.9104 - val_loss: 0.3025 - val_accuracy: 0.9026\n",
            "Epoch 93/100\n",
            "60/60 [==============================] - 23s 384ms/step - loss: 0.2397 - accuracy: 0.9122 - val_loss: 0.3052 - val_accuracy: 0.8979\n",
            "Epoch 94/100\n",
            "60/60 [==============================] - 23s 385ms/step - loss: 0.2474 - accuracy: 0.9096 - val_loss: 0.3289 - val_accuracy: 0.8908\n",
            "Epoch 95/100\n",
            "60/60 [==============================] - 23s 384ms/step - loss: 0.2375 - accuracy: 0.9137 - val_loss: 0.2829 - val_accuracy: 0.8991\n",
            "Epoch 96/100\n",
            "60/60 [==============================] - 23s 385ms/step - loss: 0.2382 - accuracy: 0.9125 - val_loss: 0.2918 - val_accuracy: 0.9014\n",
            "Epoch 97/100\n",
            "60/60 [==============================] - 23s 385ms/step - loss: 0.2311 - accuracy: 0.9130 - val_loss: 0.3076 - val_accuracy: 0.8937\n",
            "Epoch 98/100\n",
            "60/60 [==============================] - 23s 384ms/step - loss: 0.2362 - accuracy: 0.9130 - val_loss: 0.2908 - val_accuracy: 0.9044\n",
            "Epoch 99/100\n",
            "60/60 [==============================] - 23s 384ms/step - loss: 0.2242 - accuracy: 0.9159 - val_loss: 0.3009 - val_accuracy: 0.9020\n",
            "Epoch 100/100\n",
            "60/60 [==============================] - 23s 384ms/step - loss: 0.2283 - accuracy: 0.9152 - val_loss: 0.2917 - val_accuracy: 0.9026\n",
            "133/133 [==============================] - 3s 24ms/step - loss: 0.3023 - accuracy: 0.8961\n",
            "Test accuracy: 89.61%\n"
          ]
        }
      ]
    },
    {
      "cell_type": "code",
      "source": [
        "plt.plot(history.history['accuracy'], label = 'Train Accuracy')\n",
        "plt.plot(history.history['val_accuracy'], label = 'Test Accuracy')\n",
        "plt.legend()\n",
        "plt.show()"
      ],
      "metadata": {
        "id": "V7srYPXVr8AN",
        "outputId": "98c4b956-29fe-4eb7-eba6-9aa194c40767",
        "colab": {
          "base_uri": "https://localhost:8080/",
          "height": 265
        }
      },
      "execution_count": 30,
      "outputs": [
        {
          "output_type": "display_data",
          "data": {
            "text/plain": [
              "<Figure size 432x288 with 1 Axes>"
            ],
            "image/png": "[encoded data removed]"
          },
          "metadata": {
            "needs_background": "light"
          }
        }
      ]
    },
    {
      "cell_type": "code",
      "source": [
        "plt.plot(history.history['loss'], label = 'Train loss')\n",
        "plt.plot(history.history['val_loss'], label = 'Test loss')\n",
        "plt.legend()\n",
        "plt.show()"
      ],
      "metadata": {
        "id": "5t_naoOmuFXX",
        "outputId": "2cbb5420-59ee-4ef0-e86b-7d266ff59f89",
        "colab": {
          "base_uri": "https://localhost:8080/",
          "height": 265
        }
      },
      "execution_count": 31,
      "outputs": [
        {
          "output_type": "display_data",
          "data": {
            "text/plain": [
              "<Figure size 432x288 with 1 Axes>"
            ],
            "image/png": "[encoded data removed]"
          },
          "metadata": {
            "needs_background": "light"
          }
        }
      ]
    }
  ]
}