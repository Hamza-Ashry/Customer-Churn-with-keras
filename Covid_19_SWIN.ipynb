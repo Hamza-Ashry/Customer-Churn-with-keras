{
  "nbformat": 4,
  "nbformat_minor": 0,
  "metadata": {
    "colab": {
      "provenance": [],
      "collapsed_sections": [],
      "machine_shape": "hm"
    },
    "kernelspec": {
      "name": "python3",
      "display_name": "Python 3"
    },
    "accelerator": "GPU"
  },
  "cells": [
    {
      "cell_type": "code",
      "metadata": {
        "id": "tZRSiDYNQLSr"
      },
      "source": [
        "import os\n",
        "import cv2\n",
        "import pandas as pd\n",
        "import numpy as np\n",
        "import matplotlib.pyplot as plt\n",
        "import tensorflow as tf \n",
        "import keras\n",
        "import tensorflow_addons as tfa\n",
        "from sklearn.model_selection import train_test_split\n",
        "import warnings\n",
        "warnings.filterwarnings('ignore')\n",
        "\n",
        "base = '/content/COVID-19_Radiography_Dataset/'"
      ],
      "execution_count": 11,
      "outputs": []
    },
    {
      "cell_type": "code",
      "source": [
        "folders = os.listdir(base)\n",
        "print(folders)"
      ],
      "metadata": {
        "colab": {
          "base_uri": "https://localhost:8080/"
        },
        "id": "lmeuVFdLSnnV",
        "outputId": "21cab421-f9a2-4c91-9316-0756a81a17e3"
      },
      "execution_count": 15,
      "outputs": [
        {
          "output_type": "stream",
          "name": "stdout",
          "text": [
            "['Normal', 'COVID', 'Viral Pneumonia', 'Lung_Opacity']\n"
          ]
        }
      ]
    },
    {
      "cell_type": "code",
      "source": [
        "%%time\n",
        "\n",
        "Data, Lables = [], []\n",
        "\n",
        "for item in folders:\n",
        "  new_path = os.path.join(base, item)\n",
        "  new_path += '/images'\n",
        "  for img in os.listdir(new_path):\n",
        "    img_path = os.path.join(new_path, img)\n",
        "    Data.append(np.array(cv2.resize(cv2.imread(img_path).astype('float32'), (72,72))))\n",
        "    Lables.append(folders.index(item))"
      ],
      "metadata": {
        "colab": {
          "base_uri": "https://localhost:8080/"
        },
        "id": "AYJyqHakSnw2",
        "outputId": "bdd09f81-a96d-4486-9147-5dc2db192dec"
      },
      "execution_count": 50,
      "outputs": [
        {
          "output_type": "stream",
          "name": "stdout",
          "text": [
            "CPU times: user 53.9 s, sys: 14.6 s, total: 1min 8s\n",
            "Wall time: 58 s\n"
          ]
        }
      ]
    },
    {
      "cell_type": "code",
      "source": [
        "Data = np.array(Data)\n",
        "Lables = np.array(Lables)\n",
        "print('Data Shape', Data.shape)\n",
        "print('Lable Shape', Lables.shape)"
      ],
      "metadata": {
        "colab": {
          "base_uri": "https://localhost:8080/"
        },
        "id": "CeB0nVIhXT4R",
        "outputId": "6fd87400-7ead-463b-acf5-c2a456062fb7"
      },
      "execution_count": 51,
      "outputs": [
        {
          "output_type": "stream",
          "name": "stdout",
          "text": [
            "Data Shape (21165, 72, 72, 3)\n",
            "Lable Shape (21165,)\n"
          ]
        }
      ]
    },
    {
      "cell_type": "code",
      "source": [
        "x_train, x_test, y_train, y_test = train_test_split(Data, Lables, test_size = .2, random_state = 1)"
      ],
      "metadata": {
        "id": "yVEi2ju2Xst5"
      },
      "execution_count": 52,
      "outputs": []
    },
    {
      "cell_type": "code",
      "source": [
        "print('x_train Shape', x_train.shape)\n",
        "print('x_test Shape', x_test.shape)\n",
        "print('y_train Shape', y_train.shape)\n",
        "print('y_test Shape', y_test.shape)"
      ],
      "metadata": {
        "colab": {
          "base_uri": "https://localhost:8080/"
        },
        "id": "Maifr21TXwZd",
        "outputId": "228d0c4b-564b-40a1-9af1-0d96e578fbf8"
      },
      "execution_count": 53,
      "outputs": [
        {
          "output_type": "stream",
          "name": "stdout",
          "text": [
            "x_train Shape (16932, 72, 72, 3)\n",
            "x_test Shape (4233, 72, 72, 3)\n",
            "y_train Shape (16932,)\n",
            "y_test Shape (4233,)\n"
          ]
        }
      ]
    },
    {
      "cell_type": "code",
      "source": [
        "input_shape = Data[0].shape\n",
        "num_classes = len(folders)\n",
        "patch_size = (2, 2)  # 2-by-2 sized patches\n",
        "dropout_rate = 0.03  # Dropout rate\n",
        "num_heads = 8  # Attention heads\n",
        "embed_dim = 64  # Embedding dimension\n",
        "num_mlp = 256  # MLP layer size\n",
        "qkv_bias = True  # Convert embedded patches to query, key, and values with a learnable additive value\n",
        "window_size = 2  # Size of attention window\n",
        "shift_size = 1  # Size of shifting window\n",
        "image_dimension = 72  # Initial image size\n",
        "\n",
        "num_patch_x = Data[0].shape[0] // patch_size[0]\n",
        "num_patch_y = Data[0].shape[1] // patch_size[1]\n",
        "\n",
        "learning_rate = 1e-3\n",
        "batch_size = 128\n",
        "num_epochs = 40\n",
        "validation_split = 0.1\n",
        "weight_decay = 0.0001\n",
        "label_smoothing = 0.1"
      ],
      "metadata": {
        "id": "KMAkiNeYXwcW"
      },
      "execution_count": 64,
      "outputs": []
    },
    {
      "cell_type": "code",
      "source": [
        "def window_partition(x, window_size):\n",
        "    _, height, width, channels = x.shape\n",
        "    patch_num_y = height // window_size\n",
        "    patch_num_x = width // window_size\n",
        "    x = tf.reshape(\n",
        "        x, shape=(-1, patch_num_y, window_size, patch_num_x, window_size, channels)\n",
        "    )\n",
        "    x = tf.transpose(x, (0, 1, 3, 2, 4, 5))\n",
        "    windows = tf.reshape(x, shape=(-1, window_size, window_size, channels))\n",
        "    return windows\n",
        "\n",
        "\n",
        "def window_reverse(windows, window_size, height, width, channels):\n",
        "    patch_num_y = height // window_size\n",
        "    patch_num_x = width // window_size\n",
        "    x = tf.reshape(\n",
        "        windows,\n",
        "        shape=(-1, patch_num_y, patch_num_x, window_size, window_size, channels),\n",
        "    )\n",
        "    x = tf.transpose(x, perm=(0, 1, 3, 2, 4, 5))\n",
        "    x = tf.reshape(x, shape=(-1, height, width, channels))\n",
        "    return x\n",
        "\n",
        "\n",
        "class DropPath(keras.layers.Layer):\n",
        "    def __init__(self, drop_prob=None, **kwargs):\n",
        "        super(DropPath, self).__init__(**kwargs)\n",
        "        self.drop_prob = drop_prob\n",
        "\n",
        "    def call(self, x):\n",
        "        input_shape = tf.shape(x)\n",
        "        batch_size = input_shape[0]\n",
        "        rank = x.shape.rank\n",
        "        shape = (batch_size,) + (1,) * (rank - 1)\n",
        "        random_tensor = (1 - self.drop_prob) + tf.random.uniform(shape, dtype=x.dtype)\n",
        "        path_mask = tf.floor(random_tensor)\n",
        "        output = tf.math.divide(x, 1 - self.drop_prob) * path_mask\n",
        "        return output"
      ],
      "metadata": {
        "id": "pAwoXpbmXwe1"
      },
      "execution_count": 65,
      "outputs": []
    },
    {
      "cell_type": "code",
      "source": [
        "class WindowAttention(keras.layers.Layer):\n",
        "    def __init__(\n",
        "        self, dim, window_size, num_heads, qkv_bias=True, dropout_rate=0.0, **kwargs\n",
        "    ):\n",
        "        super(WindowAttention, self).__init__(**kwargs)\n",
        "        self.dim = dim\n",
        "        self.window_size = window_size\n",
        "        self.num_heads = num_heads\n",
        "        self.scale = (dim // num_heads) ** -0.5\n",
        "        self.qkv = keras.layers.Dense(dim * 3, use_bias=qkv_bias)\n",
        "        self.dropout = keras.layers.Dropout(dropout_rate)\n",
        "        self.proj = keras.layers.Dense(dim)\n",
        "\n",
        "    def build(self, input_shape):\n",
        "        num_window_elements = (2 * self.window_size[0] - 1) * (\n",
        "            2 * self.window_size[1] - 1\n",
        "        )\n",
        "        self.relative_position_bias_table = self.add_weight(\n",
        "            shape=(num_window_elements, self.num_heads),\n",
        "            initializer=tf.initializers.Zeros(),\n",
        "            trainable=True,\n",
        "        )\n",
        "        coords_h = np.arange(self.window_size[0])\n",
        "        coords_w = np.arange(self.window_size[1])\n",
        "        coords_matrix = np.meshgrid(coords_h, coords_w, indexing=\"ij\")\n",
        "        coords = np.stack(coords_matrix)\n",
        "        coords_flatten = coords.reshape(2, -1)\n",
        "        relative_coords = coords_flatten[:, :, None] - coords_flatten[:, None, :]\n",
        "        relative_coords = relative_coords.transpose([1, 2, 0])\n",
        "        relative_coords[:, :, 0] += self.window_size[0] - 1\n",
        "        relative_coords[:, :, 1] += self.window_size[1] - 1\n",
        "        relative_coords[:, :, 0] *= 2 * self.window_size[1] - 1\n",
        "        relative_position_index = relative_coords.sum(-1)\n",
        "\n",
        "        self.relative_position_index = tf.Variable(\n",
        "            initial_value=tf.convert_to_tensor(relative_position_index), trainable=False\n",
        "        )\n",
        "\n",
        "    def call(self, x, mask=None):\n",
        "        _, size, channels = x.shape\n",
        "        head_dim = channels // self.num_heads\n",
        "        x_qkv = self.qkv(x)\n",
        "        x_qkv = tf.reshape(x_qkv, shape=(-1, size, 3, self.num_heads, head_dim))\n",
        "        x_qkv = tf.transpose(x_qkv, perm=(2, 0, 3, 1, 4))\n",
        "        q, k, v = x_qkv[0], x_qkv[1], x_qkv[2]\n",
        "        q = q * self.scale\n",
        "        k = tf.transpose(k, perm=(0, 1, 3, 2))\n",
        "        attn = q @ k\n",
        "\n",
        "        num_window_elements = self.window_size[0] * self.window_size[1]\n",
        "        relative_position_index_flat = tf.reshape(\n",
        "            self.relative_position_index, shape=(-1,)\n",
        "        )\n",
        "        relative_position_bias = tf.gather(\n",
        "            self.relative_position_bias_table, relative_position_index_flat\n",
        "        )\n",
        "        relative_position_bias = tf.reshape(\n",
        "            relative_position_bias, shape=(num_window_elements, num_window_elements, -1)\n",
        "        )\n",
        "        relative_position_bias = tf.transpose(relative_position_bias, perm=(2, 0, 1))\n",
        "        attn = attn + tf.expand_dims(relative_position_bias, axis=0)\n",
        "\n",
        "        if mask is not None:\n",
        "            nW = mask.get_shape()[0]\n",
        "            mask_float = tf.cast(\n",
        "                tf.expand_dims(tf.expand_dims(mask, axis=1), axis=0), tf.float32\n",
        "            )\n",
        "            attn = (\n",
        "                tf.reshape(attn, shape=(-1, nW, self.num_heads, size, size))\n",
        "                + mask_float\n",
        "            )\n",
        "            attn = tf.reshape(attn, shape=(-1, self.num_heads, size, size))\n",
        "            attn = keras.activations.softmax(attn, axis=-1)\n",
        "        else:\n",
        "            attn = keras.activations.softmax(attn, axis=-1)\n",
        "        attn = self.dropout(attn)\n",
        "\n",
        "        x_qkv = attn @ v\n",
        "        x_qkv = tf.transpose(x_qkv, perm=(0, 2, 1, 3))\n",
        "        x_qkv = tf.reshape(x_qkv, shape=(-1, size, channels))\n",
        "        x_qkv = self.proj(x_qkv)\n",
        "        x_qkv = self.dropout(x_qkv)\n",
        "        return x_qkv"
      ],
      "metadata": {
        "id": "UWfn4WWIXwhN"
      },
      "execution_count": 66,
      "outputs": []
    },
    {
      "cell_type": "code",
      "source": [
        "class SwinTransformer(keras.layers.Layer):\n",
        "    def __init__(\n",
        "        self,\n",
        "        dim,\n",
        "        num_patch,\n",
        "        num_heads,\n",
        "        window_size=7,\n",
        "        shift_size=0,\n",
        "        num_mlp=1024,\n",
        "        qkv_bias=True,\n",
        "        dropout_rate=0.0,\n",
        "        **kwargs,\n",
        "    ):\n",
        "        super(SwinTransformer, self).__init__(**kwargs)\n",
        "\n",
        "        self.dim = dim  # number of input dimensions\n",
        "        self.num_patch = num_patch  # number of embedded patches\n",
        "        self.num_heads = num_heads  # number of attention heads\n",
        "        self.window_size = window_size  # size of window\n",
        "        self.shift_size = shift_size  # size of window shift\n",
        "        self.num_mlp = num_mlp  # number of MLP nodes\n",
        "\n",
        "        self.norm1 = keras.layers.LayerNormalization(epsilon=1e-5)\n",
        "        self.attn = WindowAttention(\n",
        "            dim,\n",
        "            window_size=(self.window_size, self.window_size),\n",
        "            num_heads=num_heads,\n",
        "            qkv_bias=qkv_bias,\n",
        "            dropout_rate=dropout_rate,\n",
        "        )\n",
        "        self.drop_path = DropPath(dropout_rate)\n",
        "        self.norm2 = keras.layers.LayerNormalization(epsilon=1e-5)\n",
        "\n",
        "        self.mlp = keras.Sequential(\n",
        "            [\n",
        "                keras.layers.Dense(num_mlp),\n",
        "                keras.layers.Activation(keras.activations.gelu),\n",
        "                keras.layers.Dropout(dropout_rate),\n",
        "                keras.layers.Dense(dim),\n",
        "                keras.layers.Dropout(dropout_rate),\n",
        "            ]\n",
        "        )\n",
        "\n",
        "        if min(self.num_patch) < self.window_size:\n",
        "            self.shift_size = 0\n",
        "            self.window_size = min(self.num_patch)\n",
        "\n",
        "    def build(self, input_shape):\n",
        "        if self.shift_size == 0:\n",
        "            self.attn_mask = None\n",
        "        else:\n",
        "            height, width = self.num_patch\n",
        "            h_slices = (\n",
        "                slice(0, -self.window_size),\n",
        "                slice(-self.window_size, -self.shift_size),\n",
        "                slice(-self.shift_size, None),\n",
        "            )\n",
        "            w_slices = (\n",
        "                slice(0, -self.window_size),\n",
        "                slice(-self.window_size, -self.shift_size),\n",
        "                slice(-self.shift_size, None),\n",
        "            )\n",
        "            mask_array = np.zeros((1, height, width, 1))\n",
        "            count = 0\n",
        "            for h in h_slices:\n",
        "                for w in w_slices:\n",
        "                    mask_array[:, h, w, :] = count\n",
        "                    count += 1\n",
        "            mask_array = tf.convert_to_tensor(mask_array)\n",
        "\n",
        "            # mask array to windows\n",
        "            mask_windows = window_partition(mask_array, self.window_size)\n",
        "            mask_windows = tf.reshape(\n",
        "                mask_windows, shape=[-1, self.window_size * self.window_size]\n",
        "            )\n",
        "            attn_mask = tf.expand_dims(mask_windows, axis=1) - tf.expand_dims(\n",
        "                mask_windows, axis=2\n",
        "            )\n",
        "            attn_mask = tf.where(attn_mask != 0, -100.0, attn_mask)\n",
        "            attn_mask = tf.where(attn_mask == 0, 0.0, attn_mask)\n",
        "            self.attn_mask = tf.Variable(initial_value=attn_mask, trainable=False)\n",
        "\n",
        "    def call(self, x):\n",
        "        height, width = self.num_patch\n",
        "        _, num_patches_before, channels = x.shape\n",
        "        x_skip = x\n",
        "        x = self.norm1(x)\n",
        "        x = tf.reshape(x, shape=(-1, height, width, channels))\n",
        "        if self.shift_size > 0:\n",
        "            shifted_x = tf.roll(\n",
        "                x, shift=[-self.shift_size, -self.shift_size], axis=[1, 2]\n",
        "            )\n",
        "        else:\n",
        "            shifted_x = x\n",
        "\n",
        "        x_windows = window_partition(shifted_x, self.window_size)\n",
        "        x_windows = tf.reshape(\n",
        "            x_windows, shape=(-1, self.window_size * self.window_size, channels)\n",
        "        )\n",
        "        attn_windows = self.attn(x_windows, mask=self.attn_mask)\n",
        "\n",
        "        attn_windows = tf.reshape(\n",
        "            attn_windows, shape=(-1, self.window_size, self.window_size, channels)\n",
        "        )\n",
        "        shifted_x = window_reverse(\n",
        "            attn_windows, self.window_size, height, width, channels\n",
        "        )\n",
        "        if self.shift_size > 0:\n",
        "            x = tf.roll(\n",
        "                shifted_x, shift=[self.shift_size, self.shift_size], axis=[1, 2]\n",
        "            )\n",
        "        else:\n",
        "            x = shifted_x\n",
        "\n",
        "        x = tf.reshape(x, shape=(-1, height * width, channels))\n",
        "        x = self.drop_path(x)\n",
        "        x = x_skip + x\n",
        "        x_skip = x\n",
        "        x = self.norm2(x)\n",
        "        x = self.mlp(x)\n",
        "        x = self.drop_path(x)\n",
        "        x = x_skip + x\n",
        "        return x"
      ],
      "metadata": {
        "id": "llD8jADIXwjv"
      },
      "execution_count": 67,
      "outputs": []
    },
    {
      "cell_type": "code",
      "source": [
        "class PatchExtract(keras.layers.Layer):\n",
        "    def __init__(self, patch_size, **kwargs):\n",
        "        super(PatchExtract, self).__init__(**kwargs)\n",
        "        self.patch_size_x = patch_size[0]\n",
        "        self.patch_size_y = patch_size[0]\n",
        "\n",
        "    def call(self, images):\n",
        "        batch_size = tf.shape(images)[0]\n",
        "        patches = tf.image.extract_patches(\n",
        "            images=images,\n",
        "            sizes=(1, self.patch_size_x, self.patch_size_y, 1),\n",
        "            strides=(1, self.patch_size_x, self.patch_size_y, 1),\n",
        "            rates=(1, 1, 1, 1),\n",
        "            padding=\"VALID\",\n",
        "        )\n",
        "        patch_dim = patches.shape[-1]\n",
        "        patch_num = patches.shape[1]\n",
        "        return tf.reshape(patches, (batch_size, patch_num * patch_num, patch_dim))\n",
        "\n",
        "\n",
        "class PatchEmbedding(keras.layers.Layer):\n",
        "    def __init__(self, num_patch, embed_dim, **kwargs):\n",
        "        super(PatchEmbedding, self).__init__(**kwargs)\n",
        "        self.num_patch = num_patch\n",
        "        self.proj = keras.layers.Dense(embed_dim)\n",
        "        self.pos_embed = keras.layers.Embedding(input_dim=num_patch, output_dim=embed_dim)\n",
        "\n",
        "    def call(self, patch):\n",
        "        pos = tf.range(start=0, limit=self.num_patch, delta=1)\n",
        "        return self.proj(patch) + self.pos_embed(pos)\n",
        "\n",
        "\n",
        "class PatchMerging(tf.keras.layers.Layer):\n",
        "    def __init__(self, num_patch, embed_dim):\n",
        "        super(PatchMerging, self).__init__()\n",
        "        self.num_patch = num_patch\n",
        "        self.embed_dim = embed_dim\n",
        "        self.linear_trans = keras.layers.Dense(2 * embed_dim, use_bias=False)\n",
        "\n",
        "    def call(self, x):\n",
        "        height, width = self.num_patch\n",
        "        _, _, C = x.get_shape().as_list()\n",
        "        x = tf.reshape(x, shape=(-1, height, width, C))\n",
        "        x0 = x[:, 0::2, 0::2, :]\n",
        "        x1 = x[:, 1::2, 0::2, :]\n",
        "        x2 = x[:, 0::2, 1::2, :]\n",
        "        x3 = x[:, 1::2, 1::2, :]\n",
        "        x = tf.concat((x0, x1, x2, x3), axis=-1)\n",
        "        x = tf.reshape(x, shape=(-1, (height // 2) * (width // 2), 4 * C))\n",
        "        return self.linear_trans(x)"
      ],
      "metadata": {
        "id": "wmUC0MgjfrZd"
      },
      "execution_count": 68,
      "outputs": []
    },
    {
      "cell_type": "code",
      "source": [
        "input = keras.layers.Input(input_shape)\n",
        "x =  keras.layers.RandomCrop(image_dimension, image_dimension)(input)\n",
        "x =  keras.layers.RandomFlip(\"horizontal\")(x)\n",
        "x = PatchExtract(patch_size)(x)\n",
        "x = PatchEmbedding(num_patch_x * num_patch_y, embed_dim)(x)\n",
        "x = SwinTransformer(\n",
        "    dim=embed_dim,\n",
        "    num_patch=(num_patch_x, num_patch_y),\n",
        "    num_heads=num_heads,\n",
        "    window_size=window_size,\n",
        "    shift_size=0,\n",
        "    num_mlp=num_mlp,\n",
        "    qkv_bias=qkv_bias,\n",
        "    dropout_rate=dropout_rate,\n",
        ")(x)\n",
        "x = SwinTransformer(\n",
        "    dim=embed_dim,\n",
        "    num_patch=(num_patch_x, num_patch_y),\n",
        "    num_heads=num_heads,\n",
        "    window_size=window_size,\n",
        "    shift_size=shift_size,\n",
        "    num_mlp=num_mlp,\n",
        "    qkv_bias=qkv_bias,\n",
        "    dropout_rate=dropout_rate,\n",
        ")(x)\n",
        "x = PatchMerging((num_patch_x, num_patch_y), embed_dim=embed_dim)(x)\n",
        "x =  keras.layers.GlobalAveragePooling1D()(x)\n",
        "output =  keras.layers.Dense(num_classes, activation=\"softmax\")(x)"
      ],
      "metadata": {
        "id": "KL2oCXhAf2PJ"
      },
      "execution_count": 75,
      "outputs": []
    },
    {
      "cell_type": "code",
      "source": [
        "%%time\n",
        "model = keras.Model(input, output)\n",
        "model.compile(\n",
        "    loss=keras.losses.SparseCategoricalCrossentropy(from_logits=True),\n",
        "    optimizer=tfa.optimizers.AdamW(\n",
        "        learning_rate=learning_rate, weight_decay=weight_decay\n",
        "    ),\n",
        "    metrics=[\n",
        "        keras.metrics.CategoricalAccuracy(name=\"accuracy\"),\n",
        "    ],\n",
        ")\n",
        "\n",
        "history = model.fit(\n",
        "    x_train,\n",
        "    y_train,\n",
        "    batch_size=batch_size,\n",
        "    epochs=num_epochs,\n",
        "    validation_data = (x_test, y_test),\n",
        ")"
      ],
      "metadata": {
        "colab": {
          "base_uri": "https://localhost:8080/"
        },
        "id": "ez1TmXDkhC3o",
        "outputId": "ca408bf8-9adf-44da-f32d-ff78e32fc110"
      },
      "execution_count": 77,
      "outputs": [
        {
          "output_type": "stream",
          "name": "stdout",
          "text": [
            "Epoch 1/40\n",
            "133/133 [==============================] - 48s 332ms/step - loss: 19.4207 - accuracy: 0.4685 - val_loss: 8.6570 - val_accuracy: 0.9983\n",
            "Epoch 2/40\n",
            "133/133 [==============================] - 44s 328ms/step - loss: 7.5188 - accuracy: 0.4930 - val_loss: 1.6729 - val_accuracy: 0.8531\n",
            "Epoch 3/40\n",
            "133/133 [==============================] - 44s 330ms/step - loss: 4.1298 - accuracy: 0.4923 - val_loss: 2.6569 - val_accuracy: 0.9714\n",
            "Epoch 4/40\n",
            "133/133 [==============================] - 44s 330ms/step - loss: 4.0520 - accuracy: 0.4966 - val_loss: 1.2865 - val_accuracy: 0.8547\n",
            "Epoch 5/40\n",
            "133/133 [==============================] - 44s 331ms/step - loss: 1.5766 - accuracy: 0.5471 - val_loss: 1.4811 - val_accuracy: 0.5762\n",
            "Epoch 6/40\n",
            "133/133 [==============================] - 44s 331ms/step - loss: 1.3287 - accuracy: 0.5494 - val_loss: 1.0740 - val_accuracy: 0.7600\n",
            "Epoch 7/40\n",
            "133/133 [==============================] - 44s 331ms/step - loss: 1.3652 - accuracy: 0.5556 - val_loss: 1.4112 - val_accuracy: 0.9161\n",
            "Epoch 8/40\n",
            "133/133 [==============================] - 44s 330ms/step - loss: 1.3460 - accuracy: 0.5511 - val_loss: 1.0268 - val_accuracy: 0.5618\n",
            "Epoch 9/40\n",
            "133/133 [==============================] - 44s 330ms/step - loss: 1.1136 - accuracy: 0.5554 - val_loss: 1.2805 - val_accuracy: 0.2060\n",
            "Epoch 10/40\n",
            "133/133 [==============================] - 44s 330ms/step - loss: 1.0124 - accuracy: 0.5608 - val_loss: 1.1458 - val_accuracy: 0.9258\n",
            "Epoch 11/40\n",
            "133/133 [==============================] - 44s 330ms/step - loss: 1.0360 - accuracy: 0.5553 - val_loss: 0.9341 - val_accuracy: 0.4583\n",
            "Epoch 12/40\n",
            "133/133 [==============================] - 44s 331ms/step - loss: 0.9766 - accuracy: 0.5536 - val_loss: 1.2071 - val_accuracy: 0.4777\n",
            "Epoch 13/40\n",
            "133/133 [==============================] - 44s 330ms/step - loss: 0.9458 - accuracy: 0.5495 - val_loss: 0.8869 - val_accuracy: 0.3591\n",
            "Epoch 14/40\n",
            "133/133 [==============================] - 44s 331ms/step - loss: 0.9113 - accuracy: 0.5467 - val_loss: 1.1262 - val_accuracy: 0.2717\n",
            "Epoch 15/40\n",
            "133/133 [==============================] - 44s 331ms/step - loss: 0.9177 - accuracy: 0.5438 - val_loss: 1.0030 - val_accuracy: 0.4777\n",
            "Epoch 16/40\n",
            "133/133 [==============================] - 44s 330ms/step - loss: 0.8467 - accuracy: 0.5496 - val_loss: 0.8535 - val_accuracy: 0.5788\n",
            "Epoch 17/40\n",
            "133/133 [==============================] - 44s 331ms/step - loss: 0.8544 - accuracy: 0.5444 - val_loss: 0.9100 - val_accuracy: 0.2901\n",
            "Epoch 18/40\n",
            "133/133 [==============================] - 44s 330ms/step - loss: 0.8886 - accuracy: 0.5315 - val_loss: 0.9150 - val_accuracy: 0.7501\n",
            "Epoch 19/40\n",
            "133/133 [==============================] - 44s 330ms/step - loss: 0.8236 - accuracy: 0.5429 - val_loss: 0.8416 - val_accuracy: 0.5105\n",
            "Epoch 20/40\n",
            "133/133 [==============================] - 44s 331ms/step - loss: 0.8095 - accuracy: 0.5382 - val_loss: 0.8249 - val_accuracy: 0.3775\n",
            "Epoch 21/40\n",
            "133/133 [==============================] - 44s 331ms/step - loss: 0.8211 - accuracy: 0.5353 - val_loss: 0.8098 - val_accuracy: 0.5932\n",
            "Epoch 22/40\n",
            "133/133 [==============================] - 44s 331ms/step - loss: 0.8039 - accuracy: 0.5333 - val_loss: 0.8122 - val_accuracy: 0.6986\n",
            "Epoch 23/40\n",
            "133/133 [==============================] - 44s 331ms/step - loss: 0.7715 - accuracy: 0.5335 - val_loss: 0.7986 - val_accuracy: 0.6837\n",
            "Epoch 24/40\n",
            "133/133 [==============================] - 44s 330ms/step - loss: 0.7702 - accuracy: 0.5299 - val_loss: 0.7574 - val_accuracy: 0.5415\n",
            "Epoch 25/40\n",
            "133/133 [==============================] - 44s 330ms/step - loss: 0.7533 - accuracy: 0.5291 - val_loss: 0.7668 - val_accuracy: 0.4106\n",
            "Epoch 26/40\n",
            "133/133 [==============================] - 44s 330ms/step - loss: 0.7539 - accuracy: 0.5250 - val_loss: 0.8481 - val_accuracy: 0.7392\n",
            "Epoch 27/40\n",
            "133/133 [==============================] - 44s 330ms/step - loss: 0.7445 - accuracy: 0.5261 - val_loss: 0.8956 - val_accuracy: 0.7879\n",
            "Epoch 28/40\n",
            "133/133 [==============================] - 44s 330ms/step - loss: 0.7395 - accuracy: 0.5288 - val_loss: 0.7762 - val_accuracy: 0.4146\n",
            "Epoch 29/40\n",
            "133/133 [==============================] - 44s 330ms/step - loss: 0.7220 - accuracy: 0.5228 - val_loss: 0.7369 - val_accuracy: 0.5554\n",
            "Epoch 30/40\n",
            "133/133 [==============================] - 44s 330ms/step - loss: 0.7095 - accuracy: 0.5255 - val_loss: 0.8150 - val_accuracy: 0.6908\n",
            "Epoch 31/40\n",
            "133/133 [==============================] - 44s 331ms/step - loss: 0.6957 - accuracy: 0.5243 - val_loss: 0.7501 - val_accuracy: 0.6012\n",
            "Epoch 32/40\n",
            "133/133 [==============================] - 44s 330ms/step - loss: 0.7037 - accuracy: 0.5279 - val_loss: 0.7363 - val_accuracy: 0.4994\n",
            "Epoch 33/40\n",
            "133/133 [==============================] - 44s 330ms/step - loss: 0.6887 - accuracy: 0.5268 - val_loss: 0.7964 - val_accuracy: 0.7186\n",
            "Epoch 34/40\n",
            "133/133 [==============================] - 44s 331ms/step - loss: 0.6800 - accuracy: 0.5233 - val_loss: 0.7236 - val_accuracy: 0.5944\n",
            "Epoch 35/40\n",
            "133/133 [==============================] - 44s 331ms/step - loss: 0.6802 - accuracy: 0.5177 - val_loss: 0.8242 - val_accuracy: 0.5703\n",
            "Epoch 36/40\n",
            "133/133 [==============================] - 44s 330ms/step - loss: 0.6730 - accuracy: 0.5222 - val_loss: 0.7317 - val_accuracy: 0.4236\n",
            "Epoch 37/40\n",
            "133/133 [==============================] - 44s 330ms/step - loss: 0.6610 - accuracy: 0.5193 - val_loss: 0.6919 - val_accuracy: 0.5301\n",
            "Epoch 38/40\n",
            "133/133 [==============================] - 44s 330ms/step - loss: 0.6479 - accuracy: 0.5220 - val_loss: 0.7203 - val_accuracy: 0.5606\n",
            "Epoch 39/40\n",
            "133/133 [==============================] - 44s 331ms/step - loss: 0.6435 - accuracy: 0.5233 - val_loss: 0.7424 - val_accuracy: 0.4186\n",
            "Epoch 40/40\n",
            "133/133 [==============================] - 44s 330ms/step - loss: 0.6340 - accuracy: 0.5208 - val_loss: 0.7117 - val_accuracy: 0.5951\n",
            "CPU times: user 19min 57s, sys: 48.8 s, total: 20min 46s\n",
            "Wall time: 29min 21s\n"
          ]
        }
      ]
    },
    {
      "cell_type": "code",
      "source": [
        "plt.plot(history.history['accuracy'], label = 'Train Accuracy')\n",
        "plt.plot(history.history['val_accuracy'], label = 'Test Accuracy')\n",
        "plt.legend()\n",
        "plt.show()"
      ],
      "metadata": {
        "colab": {
          "base_uri": "https://localhost:8080/",
          "height": 265
        },
        "id": "V7srYPXVr8AN",
        "outputId": "32bab4e1-6c79-4666-f721-00bb1b944a9c"
      },
      "execution_count": 78,
      "outputs": [
        {
          "output_type": "display_data",
          "data": {
            "text/plain": [
              "<Figure size 432x288 with 1 Axes>"
            ],
            "image/png": "[encoded data removed]"
          },
          "metadata": {
            "needs_background": "light"
          }
        }
      ]
    },
    {
      "cell_type": "code",
      "source": [
        "plt.plot(history.history['loss'], label = 'Train loss')\n",
        "plt.plot(history.history['val_loss'], label = 'Test loss')\n",
        "plt.legend()\n",
        "plt.show()"
      ],
      "metadata": {
        "colab": {
          "base_uri": "https://localhost:8080/",
          "height": 266
        },
        "id": "5t_naoOmuFXX",
        "outputId": "2c447c76-b8ad-4f75-bc81-d2f40c3b183e"
      },
      "execution_count": 79,
      "outputs": [
        {
          "output_type": "display_data",
          "data": {
            "text/plain": [
              "<Figure size 432x288 with 1 Axes>"
            ],
            "image/png": "[encoded data removed]"
          },
          "metadata": {
            "needs_background": "light"
          }
        }
      ]
    },
    {
      "cell_type": "code",
      "source": [
        "model.evaluate(x_test, y_test)"
      ],
      "metadata": {
        "id": "HTSAd_AZQkzJ",
        "outputId": "4e7d21e9-e562-4fae-ffbd-ed216c8c2017",
        "colab": {
          "base_uri": "https://localhost:8080/"
        }
      },
      "execution_count": 80,
      "outputs": [
        {
          "output_type": "stream",
          "name": "stdout",
          "text": [
            "133/133 [==============================] - 4s 29ms/step - loss: 0.7193 - accuracy: 0.5923\n"
          ]
        },
        {
          "output_type": "execute_result",
          "data": {
            "text/plain": [
              "[0.7193124294281006, 0.5922513604164124]"
            ]
          },
          "metadata": {},
          "execution_count": 80
        }
      ]
    }
  ]
}